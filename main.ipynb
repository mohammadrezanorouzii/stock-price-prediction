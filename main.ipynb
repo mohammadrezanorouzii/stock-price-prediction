{
 "cells": [
  {
   "cell_type": "markdown",
   "metadata": {},
   "source": [
    "## imports "
   ]
  },
  {
   "cell_type": "code",
   "execution_count": 1,
   "metadata": {},
   "outputs": [],
   "source": [
    "import pandas as pd\n",
    "import numpy as np\n",
    "import seaborn as sns\n",
    "import math\n",
    "import matplotlib.pyplot as plt\n",
    "from sklearn.preprocessing import MinMaxScaler\n",
    "from IPython.display import clear_output\n",
    "from tensorflow import keras\n",
    "from keras.models import Sequential\n",
    "from keras import layers\n",
    "from keras.layers import Dense,LSTM,Dropout,Activation,BatchNormalization,Conv1D,MaxPooling1D,Flatten\n",
    "from sklearn.metrics import mean_squared_error\n"
   ]
  },
  {
   "cell_type": "markdown",
   "metadata": {},
   "source": [
    "### Load Dataset\n",
    "##### the following dataset contains Iran stock index price since **2014(1393)** to **2019(1397)**"
   ]
  },
  {
   "cell_type": "code",
   "execution_count": 2,
   "metadata": {},
   "outputs": [
    {
     "data": {
      "text/html": [
       "<div>\n",
       "<style scoped>\n",
       "    .dataframe tbody tr th:only-of-type {\n",
       "        vertical-align: middle;\n",
       "    }\n",
       "\n",
       "    .dataframe tbody tr th {\n",
       "        vertical-align: top;\n",
       "    }\n",
       "\n",
       "    .dataframe thead th {\n",
       "        text-align: right;\n",
       "    }\n",
       "</style>\n",
       "<table border=\"1\" class=\"dataframe\">\n",
       "  <thead>\n",
       "    <tr style=\"text-align: right;\">\n",
       "      <th></th>\n",
       "      <th>name</th>\n",
       "      <th>dateissue</th>\n",
       "      <th>Value</th>\n",
       "    </tr>\n",
       "  </thead>\n",
       "  <tbody>\n",
       "    <tr>\n",
       "      <th>0</th>\n",
       "      <td>????</td>\n",
       "      <td>14021228</td>\n",
       "      <td>2195092.3</td>\n",
       "    </tr>\n",
       "    <tr>\n",
       "      <th>1</th>\n",
       "      <td>????</td>\n",
       "      <td>14021227</td>\n",
       "      <td>2160406.5</td>\n",
       "    </tr>\n",
       "    <tr>\n",
       "      <th>2</th>\n",
       "      <td>????</td>\n",
       "      <td>14021226</td>\n",
       "      <td>2148494.0</td>\n",
       "    </tr>\n",
       "    <tr>\n",
       "      <th>3</th>\n",
       "      <td>????</td>\n",
       "      <td>14021223</td>\n",
       "      <td>2150035.3</td>\n",
       "    </tr>\n",
       "    <tr>\n",
       "      <th>4</th>\n",
       "      <td>????</td>\n",
       "      <td>14021222</td>\n",
       "      <td>2163501.0</td>\n",
       "    </tr>\n",
       "    <tr>\n",
       "      <th>...</th>\n",
       "      <td>...</td>\n",
       "      <td>...</td>\n",
       "      <td>...</td>\n",
       "    </tr>\n",
       "    <tr>\n",
       "      <th>2408</th>\n",
       "      <td>????</td>\n",
       "      <td>13930111</td>\n",
       "      <td>78741.3</td>\n",
       "    </tr>\n",
       "    <tr>\n",
       "      <th>2409</th>\n",
       "      <td>????</td>\n",
       "      <td>13930110</td>\n",
       "      <td>78469.2</td>\n",
       "    </tr>\n",
       "    <tr>\n",
       "      <th>2410</th>\n",
       "      <td>????</td>\n",
       "      <td>13930109</td>\n",
       "      <td>78239.7</td>\n",
       "    </tr>\n",
       "    <tr>\n",
       "      <th>2411</th>\n",
       "      <td>????</td>\n",
       "      <td>13930106</td>\n",
       "      <td>78619.4</td>\n",
       "    </tr>\n",
       "    <tr>\n",
       "      <th>2412</th>\n",
       "      <td>????</td>\n",
       "      <td>13930105</td>\n",
       "      <td>79013.5</td>\n",
       "    </tr>\n",
       "  </tbody>\n",
       "</table>\n",
       "<p>2413 rows × 3 columns</p>\n",
       "</div>"
      ],
      "text/plain": [
       "      name  dateissue      Value\n",
       "0     ????   14021228  2195092.3\n",
       "1     ????   14021227  2160406.5\n",
       "2     ????   14021226  2148494.0\n",
       "3     ????   14021223  2150035.3\n",
       "4     ????   14021222  2163501.0\n",
       "...    ...        ...        ...\n",
       "2408  ????   13930111    78741.3\n",
       "2409  ????   13930110    78469.2\n",
       "2410  ????   13930109    78239.7\n",
       "2411  ????   13930106    78619.4\n",
       "2412  ????   13930105    79013.5\n",
       "\n",
       "[2413 rows x 3 columns]"
      ]
     },
     "execution_count": 2,
     "metadata": {},
     "output_type": "execute_result"
    }
   ],
   "source": [
    "# df = pd.read_csv(r\"C:\\Users\\moham\\Documents\\Projects\\stock-price-prediction\\data\\1393-1397.csv\")\n",
    "df = pd.read_csv(r\"C:\\Users\\moham\\Documents\\Projects\\stock-price-prediction\\data\\1393--1403.csv\")\n",
    "df"
   ]
  },
  {
   "cell_type": "code",
   "execution_count": 3,
   "metadata": {},
   "outputs": [
    {
     "data": {
      "text/html": [
       "<div>\n",
       "<style scoped>\n",
       "    .dataframe tbody tr th:only-of-type {\n",
       "        vertical-align: middle;\n",
       "    }\n",
       "\n",
       "    .dataframe tbody tr th {\n",
       "        vertical-align: top;\n",
       "    }\n",
       "\n",
       "    .dataframe thead th {\n",
       "        text-align: right;\n",
       "    }\n",
       "</style>\n",
       "<table border=\"1\" class=\"dataframe\">\n",
       "  <thead>\n",
       "    <tr style=\"text-align: right;\">\n",
       "      <th></th>\n",
       "      <th>name</th>\n",
       "      <th>dateissue</th>\n",
       "      <th>Value</th>\n",
       "    </tr>\n",
       "  </thead>\n",
       "  <tbody>\n",
       "    <tr>\n",
       "      <th>2412</th>\n",
       "      <td>????</td>\n",
       "      <td>13930105</td>\n",
       "      <td>79013.5</td>\n",
       "    </tr>\n",
       "    <tr>\n",
       "      <th>2411</th>\n",
       "      <td>????</td>\n",
       "      <td>13930106</td>\n",
       "      <td>78619.4</td>\n",
       "    </tr>\n",
       "    <tr>\n",
       "      <th>2410</th>\n",
       "      <td>????</td>\n",
       "      <td>13930109</td>\n",
       "      <td>78239.7</td>\n",
       "    </tr>\n",
       "    <tr>\n",
       "      <th>2409</th>\n",
       "      <td>????</td>\n",
       "      <td>13930110</td>\n",
       "      <td>78469.2</td>\n",
       "    </tr>\n",
       "    <tr>\n",
       "      <th>2408</th>\n",
       "      <td>????</td>\n",
       "      <td>13930111</td>\n",
       "      <td>78741.3</td>\n",
       "    </tr>\n",
       "    <tr>\n",
       "      <th>...</th>\n",
       "      <td>...</td>\n",
       "      <td>...</td>\n",
       "      <td>...</td>\n",
       "    </tr>\n",
       "    <tr>\n",
       "      <th>4</th>\n",
       "      <td>????</td>\n",
       "      <td>14021222</td>\n",
       "      <td>2163501.0</td>\n",
       "    </tr>\n",
       "    <tr>\n",
       "      <th>3</th>\n",
       "      <td>????</td>\n",
       "      <td>14021223</td>\n",
       "      <td>2150035.3</td>\n",
       "    </tr>\n",
       "    <tr>\n",
       "      <th>2</th>\n",
       "      <td>????</td>\n",
       "      <td>14021226</td>\n",
       "      <td>2148494.0</td>\n",
       "    </tr>\n",
       "    <tr>\n",
       "      <th>1</th>\n",
       "      <td>????</td>\n",
       "      <td>14021227</td>\n",
       "      <td>2160406.5</td>\n",
       "    </tr>\n",
       "    <tr>\n",
       "      <th>0</th>\n",
       "      <td>????</td>\n",
       "      <td>14021228</td>\n",
       "      <td>2195092.3</td>\n",
       "    </tr>\n",
       "  </tbody>\n",
       "</table>\n",
       "<p>2413 rows × 3 columns</p>\n",
       "</div>"
      ],
      "text/plain": [
       "      name  dateissue      Value\n",
       "2412  ????   13930105    79013.5\n",
       "2411  ????   13930106    78619.4\n",
       "2410  ????   13930109    78239.7\n",
       "2409  ????   13930110    78469.2\n",
       "2408  ????   13930111    78741.3\n",
       "...    ...        ...        ...\n",
       "4     ????   14021222  2163501.0\n",
       "3     ????   14021223  2150035.3\n",
       "2     ????   14021226  2148494.0\n",
       "1     ????   14021227  2160406.5\n",
       "0     ????   14021228  2195092.3\n",
       "\n",
       "[2413 rows x 3 columns]"
      ]
     },
     "execution_count": 3,
     "metadata": {},
     "output_type": "execute_result"
    }
   ],
   "source": [
    "df = df.iloc[::-1] \n",
    "df"
   ]
  },
  {
   "cell_type": "code",
   "execution_count": 4,
   "metadata": {},
   "outputs": [],
   "source": [
    "df = df[[\"dateissue\" , \"Value\"]] # delete شاخص column"
   ]
  },
  {
   "cell_type": "code",
   "execution_count": 5,
   "metadata": {},
   "outputs": [],
   "source": [
    "color_pal = sns.color_palette()"
   ]
  },
  {
   "cell_type": "code",
   "execution_count": 6,
   "metadata": {},
   "outputs": [
    {
     "data": {
      "text/html": [
       "<div>\n",
       "<style scoped>\n",
       "    .dataframe tbody tr th:only-of-type {\n",
       "        vertical-align: middle;\n",
       "    }\n",
       "\n",
       "    .dataframe tbody tr th {\n",
       "        vertical-align: top;\n",
       "    }\n",
       "\n",
       "    .dataframe thead th {\n",
       "        text-align: right;\n",
       "    }\n",
       "</style>\n",
       "<table border=\"1\" class=\"dataframe\">\n",
       "  <thead>\n",
       "    <tr style=\"text-align: right;\">\n",
       "      <th></th>\n",
       "      <th>dateissue</th>\n",
       "      <th>Value</th>\n",
       "    </tr>\n",
       "  </thead>\n",
       "  <tbody>\n",
       "    <tr>\n",
       "      <th>2412</th>\n",
       "      <td>13930105</td>\n",
       "      <td>79013.5</td>\n",
       "    </tr>\n",
       "    <tr>\n",
       "      <th>2411</th>\n",
       "      <td>13930106</td>\n",
       "      <td>78619.4</td>\n",
       "    </tr>\n",
       "    <tr>\n",
       "      <th>2410</th>\n",
       "      <td>13930109</td>\n",
       "      <td>78239.7</td>\n",
       "    </tr>\n",
       "    <tr>\n",
       "      <th>2409</th>\n",
       "      <td>13930110</td>\n",
       "      <td>78469.2</td>\n",
       "    </tr>\n",
       "    <tr>\n",
       "      <th>2408</th>\n",
       "      <td>13930111</td>\n",
       "      <td>78741.3</td>\n",
       "    </tr>\n",
       "    <tr>\n",
       "      <th>...</th>\n",
       "      <td>...</td>\n",
       "      <td>...</td>\n",
       "    </tr>\n",
       "    <tr>\n",
       "      <th>1423</th>\n",
       "      <td>13970205</td>\n",
       "      <td>94796.1</td>\n",
       "    </tr>\n",
       "    <tr>\n",
       "      <th>1422</th>\n",
       "      <td>13970208</td>\n",
       "      <td>94284.4</td>\n",
       "    </tr>\n",
       "    <tr>\n",
       "      <th>1421</th>\n",
       "      <td>13970209</td>\n",
       "      <td>93805.5</td>\n",
       "    </tr>\n",
       "    <tr>\n",
       "      <th>1420</th>\n",
       "      <td>13970210</td>\n",
       "      <td>93586.9</td>\n",
       "    </tr>\n",
       "    <tr>\n",
       "      <th>1419</th>\n",
       "      <td>13970211</td>\n",
       "      <td>93612.1</td>\n",
       "    </tr>\n",
       "  </tbody>\n",
       "</table>\n",
       "<p>994 rows × 2 columns</p>\n",
       "</div>"
      ],
      "text/plain": [
       "      dateissue    Value\n",
       "2412   13930105  79013.5\n",
       "2411   13930106  78619.4\n",
       "2410   13930109  78239.7\n",
       "2409   13930110  78469.2\n",
       "2408   13930111  78741.3\n",
       "...         ...      ...\n",
       "1423   13970205  94796.1\n",
       "1422   13970208  94284.4\n",
       "1421   13970209  93805.5\n",
       "1420   13970210  93586.9\n",
       "1419   13970211  93612.1\n",
       "\n",
       "[994 rows x 2 columns]"
      ]
     },
     "execution_count": 6,
     "metadata": {},
     "output_type": "execute_result"
    }
   ],
   "source": [
    "df1 = df[df[\"dateissue\"] > 13970211] #barjam date\n",
    "df2 = df[df[\"dateissue\"] <= 13970211]\n",
    "df2"
   ]
  },
  {
   "cell_type": "code",
   "execution_count": 7,
   "metadata": {},
   "outputs": [
    {
     "data": {
      "image/png": "[encoded data removed]",
      "text/plain": [
       "<Figure size 1500x800 with 1 Axes>"
      ]
     },
     "metadata": {},
     "output_type": "display_data"
    }
   ],
   "source": [
    "df['dateissue'] = df['dateissue'].apply(lambda x: str(x)[-6:])\n",
    "df.plot( x=\"dateissue\", y=\"Value\", style='.', figsize=(15,8), color=color_pal[3])\n",
    "clear_output()\n",
    "plt.show()"
   ]
  },
  {
   "cell_type": "code",
   "execution_count": 8,
   "metadata": {},
   "outputs": [],
   "source": [
    "df1['dateissue'] = df1['dateissue'].apply(lambda x: str(x)[-6:])\n",
    "df2['dateissue'] = df2['dateissue'].apply(lambda x: str(x)[-6:])\n",
    "clear_output()"
   ]
  },
  {
   "cell_type": "code",
   "execution_count": 9,
   "metadata": {},
   "outputs": [
    {
     "data": {
      "image/png": "[encoded data removed]",
      "text/plain": [
       "<Figure size 1500x500 with 1 Axes>"
      ]
     },
     "metadata": {},
     "output_type": "display_data"
    }
   ],
   "source": [
    "plt.plot(df2[\"dateissue\"], df2[\"Value\"], color=color_pal[9])\n",
    "plt.plot(df1[\"dateissue\"], df1[\"Value\"], color=color_pal[3]) # after barjam (red)\n",
    "plt.xticks(np.arange(0, len(df), step=150))\n",
    "fig = plt.gcf()\n",
    "fig.set_size_inches(15, 5)\n",
    "plt.show()"
   ]
  },
  {
   "cell_type": "code",
   "execution_count": 10,
   "metadata": {},
   "outputs": [
    {
     "data": {
      "text/plain": [
       "(2413, 2)"
      ]
     },
     "execution_count": 10,
     "metadata": {},
     "output_type": "execute_result"
    }
   ],
   "source": [
    "df.shape"
   ]
  },
  {
   "cell_type": "code",
   "execution_count": 11,
   "metadata": {},
   "outputs": [
    {
     "data": {
      "text/html": [
       "<div>\n",
       "<style scoped>\n",
       "    .dataframe tbody tr th:only-of-type {\n",
       "        vertical-align: middle;\n",
       "    }\n",
       "\n",
       "    .dataframe tbody tr th {\n",
       "        vertical-align: top;\n",
       "    }\n",
       "\n",
       "    .dataframe thead th {\n",
       "        text-align: right;\n",
       "    }\n",
       "</style>\n",
       "<table border=\"1\" class=\"dataframe\">\n",
       "  <thead>\n",
       "    <tr style=\"text-align: right;\">\n",
       "      <th></th>\n",
       "      <th>Value</th>\n",
       "    </tr>\n",
       "    <tr>\n",
       "      <th>dateissue</th>\n",
       "      <th></th>\n",
       "    </tr>\n",
       "  </thead>\n",
       "  <tbody>\n",
       "    <tr>\n",
       "      <th>930105</th>\n",
       "      <td>79013.5</td>\n",
       "    </tr>\n",
       "    <tr>\n",
       "      <th>930106</th>\n",
       "      <td>78619.4</td>\n",
       "    </tr>\n",
       "    <tr>\n",
       "      <th>930109</th>\n",
       "      <td>78239.7</td>\n",
       "    </tr>\n",
       "    <tr>\n",
       "      <th>930110</th>\n",
       "      <td>78469.2</td>\n",
       "    </tr>\n",
       "    <tr>\n",
       "      <th>930111</th>\n",
       "      <td>78741.3</td>\n",
       "    </tr>\n",
       "    <tr>\n",
       "      <th>...</th>\n",
       "      <td>...</td>\n",
       "    </tr>\n",
       "    <tr>\n",
       "      <th>021222</th>\n",
       "      <td>2163501.0</td>\n",
       "    </tr>\n",
       "    <tr>\n",
       "      <th>021223</th>\n",
       "      <td>2150035.3</td>\n",
       "    </tr>\n",
       "    <tr>\n",
       "      <th>021226</th>\n",
       "      <td>2148494.0</td>\n",
       "    </tr>\n",
       "    <tr>\n",
       "      <th>021227</th>\n",
       "      <td>2160406.5</td>\n",
       "    </tr>\n",
       "    <tr>\n",
       "      <th>021228</th>\n",
       "      <td>2195092.3</td>\n",
       "    </tr>\n",
       "  </tbody>\n",
       "</table>\n",
       "<p>2413 rows × 1 columns</p>\n",
       "</div>"
      ],
      "text/plain": [
       "               Value\n",
       "dateissue           \n",
       "930105       79013.5\n",
       "930106       78619.4\n",
       "930109       78239.7\n",
       "930110       78469.2\n",
       "930111       78741.3\n",
       "...              ...\n",
       "021222     2163501.0\n",
       "021223     2150035.3\n",
       "021226     2148494.0\n",
       "021227     2160406.5\n",
       "021228     2195092.3\n",
       "\n",
       "[2413 rows x 1 columns]"
      ]
     },
     "execution_count": 11,
     "metadata": {},
     "output_type": "execute_result"
    }
   ],
   "source": [
    "df.index = df.pop(\"dateissue\")\n",
    "df"
   ]
  },
  {
   "cell_type": "markdown",
   "metadata": {},
   "source": [
    "### preprocessing"
   ]
  },
  {
   "cell_type": "code",
   "execution_count": 12,
   "metadata": {},
   "outputs": [
    {
     "data": {
      "text/html": [
       "<div>\n",
       "<style scoped>\n",
       "    .dataframe tbody tr th:only-of-type {\n",
       "        vertical-align: middle;\n",
       "    }\n",
       "\n",
       "    .dataframe tbody tr th {\n",
       "        vertical-align: top;\n",
       "    }\n",
       "\n",
       "    .dataframe thead th {\n",
       "        text-align: right;\n",
       "    }\n",
       "</style>\n",
       "<table border=\"1\" class=\"dataframe\">\n",
       "  <thead>\n",
       "    <tr style=\"text-align: right;\">\n",
       "      <th></th>\n",
       "      <th>Value</th>\n",
       "    </tr>\n",
       "    <tr>\n",
       "      <th>dateissue</th>\n",
       "      <th></th>\n",
       "    </tr>\n",
       "  </thead>\n",
       "  <tbody>\n",
       "    <tr>\n",
       "      <th>930105</th>\n",
       "      <td>0.112551</td>\n",
       "    </tr>\n",
       "    <tr>\n",
       "      <th>930106</th>\n",
       "      <td>0.111990</td>\n",
       "    </tr>\n",
       "    <tr>\n",
       "      <th>930109</th>\n",
       "      <td>0.111449</td>\n",
       "    </tr>\n",
       "    <tr>\n",
       "      <th>930110</th>\n",
       "      <td>0.111776</td>\n",
       "    </tr>\n",
       "    <tr>\n",
       "      <th>930111</th>\n",
       "      <td>0.112163</td>\n",
       "    </tr>\n",
       "    <tr>\n",
       "      <th>...</th>\n",
       "      <td>...</td>\n",
       "    </tr>\n",
       "    <tr>\n",
       "      <th>021222</th>\n",
       "      <td>3.081804</td>\n",
       "    </tr>\n",
       "    <tr>\n",
       "      <th>021223</th>\n",
       "      <td>3.062623</td>\n",
       "    </tr>\n",
       "    <tr>\n",
       "      <th>021226</th>\n",
       "      <td>3.060427</td>\n",
       "    </tr>\n",
       "    <tr>\n",
       "      <th>021227</th>\n",
       "      <td>3.077396</td>\n",
       "    </tr>\n",
       "    <tr>\n",
       "      <th>021228</th>\n",
       "      <td>3.126804</td>\n",
       "    </tr>\n",
       "  </tbody>\n",
       "</table>\n",
       "<p>2413 rows × 1 columns</p>\n",
       "</div>"
      ],
      "text/plain": [
       "              Value\n",
       "dateissue          \n",
       "930105     0.112551\n",
       "930106     0.111990\n",
       "930109     0.111449\n",
       "930110     0.111776\n",
       "930111     0.112163\n",
       "...             ...\n",
       "021222     3.081804\n",
       "021223     3.062623\n",
       "021226     3.060427\n",
       "021227     3.077396\n",
       "021228     3.126804\n",
       "\n",
       "[2413 rows x 1 columns]"
      ]
     },
     "execution_count": 12,
     "metadata": {},
     "output_type": "execute_result"
    }
   ],
   "source": [
    "# scaler = MinMaxScaler(feature_range=(0,1))\n",
    "# dataset = scaler.fit_transform(dataset)\n",
    "# dataset\n",
    "\n",
    "# test_dataset = [i for i in dataset if i not in train_dataset]\n",
    "# test_dataset\n",
    "\n",
    "# df['Value'] = df['Value'] / 100000\n",
    "\n",
    "df_mean = df['Value'].mean()\n",
    "df['Value'] = df['Value'] / df_mean\n",
    "clear_output()\n",
    "df"
   ]
  },
  {
   "cell_type": "code",
   "execution_count": 13,
   "metadata": {},
   "outputs": [],
   "source": [
    "dataset = df.values"
   ]
  },
  {
   "cell_type": "markdown",
   "metadata": {},
   "source": [
    "### split train and test datasets  "
   ]
  },
  {
   "cell_type": "code",
   "execution_count": 14,
   "metadata": {},
   "outputs": [
    {
     "name": "stdout",
     "output_type": "stream",
     "text": [
      "1931\n",
      "482\n",
      "(2413, 1)\n"
     ]
    }
   ],
   "source": [
    "train_count = math.ceil(len(dataset) * 0.80) # find 80% of our dataset\n",
    "print(train_count)\n",
    "print(len(dataset)-train_count)\n",
    "print(dataset.shape)"
   ]
  },
  {
   "cell_type": "code",
   "execution_count": 15,
   "metadata": {},
   "outputs": [
    {
     "data": {
      "text/plain": [
       "array([[0.11255096],\n",
       "       [0.11198958],\n",
       "       [0.11144872],\n",
       "       ...,\n",
       "       [1.90217997],\n",
       "       [1.90132601],\n",
       "       [1.90481065]])"
      ]
     },
     "execution_count": 15,
     "metadata": {},
     "output_type": "execute_result"
    }
   ],
   "source": [
    "train_dataset = dataset[0:train_count]\n",
    "train_dataset = np.array(train_dataset)\n",
    "train_dataset"
   ]
  },
  {
   "cell_type": "markdown",
   "metadata": {},
   "source": [
    "##### *we create a sequence(to make an iteratin on the dataset) for every data in the dataframe to use it for lstm and rnn  models in the future.*"
   ]
  },
  {
   "cell_type": "code",
   "execution_count": 16,
   "metadata": {},
   "outputs": [
    {
     "name": "stdout",
     "output_type": "stream",
     "text": [
      "[array([0.11255096, 0.11198958, 0.11144872, 0.11177563, 0.11216323,\n",
      "       0.11188745, 0.11058693, 0.1102791 , 0.11084732, 0.11028665])]\n",
      "[0.10897316436782095]\n"
     ]
    }
   ],
   "source": [
    "x_train = []\n",
    "y_train = []\n",
    "\n",
    "for i in range(10,train_count):\n",
    "    x_train.append(train_dataset[i-10:i, 0])\n",
    "    y_train.append(train_dataset[i,0])\n",
    "    if i<=10 : #we can get the first round of the train dataset which we created\n",
    "        print(x_train)\n",
    "        print(y_train)"
   ]
  },
  {
   "cell_type": "code",
   "execution_count": 17,
   "metadata": {},
   "outputs": [
    {
     "data": {
      "text/plain": [
       "(1921, 10)"
      ]
     },
     "execution_count": 17,
     "metadata": {},
     "output_type": "execute_result"
    }
   ],
   "source": [
    "x_train, y_train = np.array(x_train), np.array(y_train)\n",
    "x_train.shape"
   ]
  },
  {
   "cell_type": "code",
   "execution_count": 18,
   "metadata": {},
   "outputs": [
    {
     "data": {
      "text/plain": [
       "(1921, 10, 1)"
      ]
     },
     "execution_count": 18,
     "metadata": {},
     "output_type": "execute_result"
    }
   ],
   "source": [
    "x_train = np.reshape(x_train, (x_train.shape[0], x_train.shape[1], 1))\n",
    "x_train.shape"
   ]
  },
  {
   "cell_type": "markdown",
   "metadata": {},
   "source": [
    "### create models: \n",
    "1. LSTM\n",
    "2. CNN"
   ]
  },
  {
   "cell_type": "code",
   "execution_count": 19,
   "metadata": {},
   "outputs": [],
   "source": [
    "lstm_model = Sequential()\n",
    "nn_model = Sequential()"
   ]
  },
  {
   "cell_type": "code",
   "execution_count": 20,
   "metadata": {},
   "outputs": [],
   "source": [
    "# model = Sequential([\n",
    "#     layers.LSTM(50, return_sequences=True, input_shape=(10,1)),\n",
    "#     layers.LSTM(50, return_sequences=False),\n",
    "#     layers.Dense(32, activation='relu'),\n",
    "#     layers.Dropout(0.3),\n",
    "#     layers.BatchNormalization(),\n",
    "#     layers.Dense(16, activation='relu'),\n",
    "#     layers.Dropout(0.3),\n",
    "#     layers.BatchNormalization(),\n",
    "#     layers.Dense(1, activation='relu'),\n",
    "# ])\n",
    "\n",
    "lstm_model.add(LSTM(50, input_shape = (10,1), return_sequences = True))\n",
    "lstm_model.add(Dropout(0.2))\n",
    "lstm_model.add(LSTM(256))\n",
    "lstm_model.add(Dropout(0.2))\n",
    "lstm_model.add(Dense(1))\n",
    "# lstm_model.add(Activation(\"linear\"))\n",
    "\n",
    "# model.add(LSTM(50, return_sequences=True, input_shape=(10,1)))\n",
    "# model.add(LSTM(50, return_sequences=False))\n",
    "# model.add(Dense(64))\n",
    "# model.add(Dense(32))\n",
    "# model.add(Dense(8))\n",
    "# model.add(Dense(1))"
   ]
  },
  {
   "cell_type": "code",
   "execution_count": 21,
   "metadata": {},
   "outputs": [],
   "source": [
    "nn_model.add(Dense(128,input_shape=(10,1)))\n",
    "nn_model.add(Conv1D(filters = 112, kernel_size= 1,padding='valid', activation='relu'))\n",
    "nn_model.add(MaxPooling1D(pool_size=2, padding='valid'))\n",
    "nn_model.add(Conv1D(filters = 64,kernel_size = 1,padding='valid', activation='relu'))\n",
    "nn_model.add(MaxPooling1D(pool_size=1, padding='valid'))\n",
    "nn_model.add(Dropout(0.2))\n",
    "nn_model.add(Flatten())\n",
    "nn_model.add(Dense(100, activation=\"linear\"))\n",
    "nn_model.add(Dropout(0.2))\n",
    "nn_model.add(Dense(1))"
   ]
  },
  {
   "cell_type": "code",
   "execution_count": 22,
   "metadata": {},
   "outputs": [
    {
     "name": "stdout",
     "output_type": "stream",
     "text": [
      "You must install pydot (`pip install pydot`) and install graphviz (see instructions at https://graphviz.gitlab.io/download/) for plot_model to work.\n"
     ]
    }
   ],
   "source": [
    "keras.utils.plot_model(lstm_model) "
   ]
  },
  {
   "cell_type": "code",
   "execution_count": 23,
   "metadata": {},
   "outputs": [],
   "source": [
    "lstm_model.compile(loss=\"mse\", optimizer=\"adam\", metrics=['mae', 'accuracy'])\n",
    "nn_model.compile(loss=\"mse\", optimizer=\"adam\", metrics=['mae', 'accuracy'])"
   ]
  },
  {
   "cell_type": "code",
   "execution_count": 24,
   "metadata": {},
   "outputs": [
    {
     "name": "stdout",
     "output_type": "stream",
     "text": [
      "Model: \"sequential\"\n",
      "_________________________________________________________________\n",
      " Layer (type)                Output Shape              Param #   \n",
      "=================================================================\n",
      " lstm (LSTM)                 (None, 10, 50)            10400     \n",
      "                                                                 \n",
      " dropout (Dropout)           (None, 10, 50)            0         \n",
      "                                                                 \n",
      " lstm_1 (LSTM)               (None, 256)               314368    \n",
      "                                                                 \n",
      " dropout_1 (Dropout)         (None, 256)               0         \n",
      "                                                                 \n",
      " dense (Dense)               (None, 1)                 257       \n",
      "                                                                 \n",
      "=================================================================\n",
      "Total params: 325,025\n",
      "Trainable params: 325,025\n",
      "Non-trainable params: 0\n",
      "_________________________________________________________________\n"
     ]
    }
   ],
   "source": [
    "lstm_model.summary()"
   ]
  },
  {
   "cell_type": "code",
   "execution_count": 25,
   "metadata": {},
   "outputs": [
    {
     "name": "stdout",
     "output_type": "stream",
     "text": [
      "Model: \"sequential_1\"\n",
      "_________________________________________________________________\n",
      " Layer (type)                Output Shape              Param #   \n",
      "=================================================================\n",
      " dense_1 (Dense)             (None, 10, 128)           256       \n",
      "                                                                 \n",
      " conv1d (Conv1D)             (None, 10, 112)           14448     \n",
      "                                                                 \n",
      " max_pooling1d (MaxPooling1D  (None, 5, 112)           0         \n",
      " )                                                               \n",
      "                                                                 \n",
      " conv1d_1 (Conv1D)           (None, 5, 64)             7232      \n",
      "                                                                 \n",
      " max_pooling1d_1 (MaxPooling  (None, 5, 64)            0         \n",
      " 1D)                                                             \n",
      "                                                                 \n",
      " dropout_2 (Dropout)         (None, 5, 64)             0         \n",
      "                                                                 \n",
      " flatten (Flatten)           (None, 320)               0         \n",
      "                                                                 \n",
      " dense_2 (Dense)             (None, 100)               32100     \n",
      "                                                                 \n",
      " dropout_3 (Dropout)         (None, 100)               0         \n",
      "                                                                 \n",
      " dense_3 (Dense)             (None, 1)                 101       \n",
      "                                                                 \n",
      "=================================================================\n",
      "Total params: 54,137\n",
      "Trainable params: 54,137\n",
      "Non-trainable params: 0\n",
      "_________________________________________________________________\n"
     ]
    }
   ],
   "source": [
    "nn_model.summary()"
   ]
  },
  {
   "cell_type": "markdown",
   "metadata": {},
   "source": [
    "### fit models"
   ]
  },
  {
   "cell_type": "code",
   "execution_count": 26,
   "metadata": {},
   "outputs": [
    {
     "name": "stdout",
     "output_type": "stream",
     "text": [
      "Epoch 1/10\n",
      "193/193 [==============================] - 9s 16ms/step - loss: 0.0291 - mae: 0.0716 - accuracy: 0.0000e+00\n",
      "Epoch 2/10\n",
      "193/193 [==============================] - 3s 14ms/step - loss: 0.0086 - mae: 0.0479 - accuracy: 0.0000e+00\n",
      "Epoch 3/10\n",
      "193/193 [==============================] - 3s 13ms/step - loss: 0.0095 - mae: 0.0514 - accuracy: 0.0000e+00\n",
      "Epoch 4/10\n",
      "193/193 [==============================] - 3s 14ms/step - loss: 0.0078 - mae: 0.0468 - accuracy: 0.0000e+00\n",
      "Epoch 5/10\n",
      "193/193 [==============================] - 3s 14ms/step - loss: 0.0143 - mae: 0.0614 - accuracy: 0.0000e+00\n",
      "Epoch 6/10\n",
      "193/193 [==============================] - 3s 14ms/step - loss: 0.0073 - mae: 0.0433 - accuracy: 0.0000e+00\n",
      "Epoch 7/10\n",
      "193/193 [==============================] - 3s 14ms/step - loss: 0.0057 - mae: 0.0377 - accuracy: 0.0000e+00\n",
      "Epoch 8/10\n",
      "193/193 [==============================] - 3s 14ms/step - loss: 0.0068 - mae: 0.0410 - accuracy: 0.0000e+00\n",
      "Epoch 9/10\n",
      "193/193 [==============================] - 3s 15ms/step - loss: 0.0047 - mae: 0.0341 - accuracy: 0.0000e+00\n",
      "Epoch 10/10\n",
      "193/193 [==============================] - 3s 14ms/step - loss: 0.0060 - mae: 0.0389 - accuracy: 0.0000e+00\n"
     ]
    }
   ],
   "source": [
    "lstm_history = lstm_model.fit(x_train, y_train, batch_size=10, epochs=10)"
   ]
  },
  {
   "cell_type": "code",
   "execution_count": 27,
   "metadata": {},
   "outputs": [
    {
     "name": "stdout",
     "output_type": "stream",
     "text": [
      "Epoch 1/10\n",
      "193/193 [==============================] - 2s 3ms/step - loss: 0.0292 - mae: 0.0805 - accuracy: 0.0000e+00\n",
      "Epoch 2/10\n",
      "193/193 [==============================] - 1s 7ms/step - loss: 0.0131 - mae: 0.0595 - accuracy: 0.0000e+00\n",
      "Epoch 3/10\n",
      "193/193 [==============================] - 1s 3ms/step - loss: 0.0155 - mae: 0.0653 - accuracy: 0.0000e+00\n",
      "Epoch 4/10\n",
      "193/193 [==============================] - 0s 2ms/step - loss: 0.0114 - mae: 0.0583 - accuracy: 0.0000e+00\n",
      "Epoch 5/10\n",
      "193/193 [==============================] - 0s 2ms/step - loss: 0.0109 - mae: 0.0574 - accuracy: 0.0000e+00\n",
      "Epoch 6/10\n",
      "193/193 [==============================] - 0s 3ms/step - loss: 0.0124 - mae: 0.0612 - accuracy: 0.0000e+00\n",
      "Epoch 7/10\n",
      "193/193 [==============================] - 1s 3ms/step - loss: 0.0114 - mae: 0.0597 - accuracy: 0.0000e+00\n",
      "Epoch 8/10\n",
      "193/193 [==============================] - 1s 3ms/step - loss: 0.0134 - mae: 0.0678 - accuracy: 0.0000e+00\n",
      "Epoch 9/10\n",
      "193/193 [==============================] - 1s 3ms/step - loss: 0.0109 - mae: 0.0576 - accuracy: 0.0000e+00\n",
      "Epoch 10/10\n",
      "193/193 [==============================] - 1s 3ms/step - loss: 0.0101 - mae: 0.0567 - accuracy: 0.0000e+00\n"
     ]
    }
   ],
   "source": [
    "nn_history = nn_model.fit(x_train, y_train, batch_size=10, epochs=10)"
   ]
  },
  {
   "cell_type": "markdown",
   "metadata": {},
   "source": [
    "### create test array"
   ]
  },
  {
   "cell_type": "code",
   "execution_count": 28,
   "metadata": {},
   "outputs": [
    {
     "data": {
      "text/plain": [
       "(482, 10, 1)"
      ]
     },
     "execution_count": 28,
     "metadata": {},
     "output_type": "execute_result"
    }
   ],
   "source": [
    "test_dataset = dataset[train_count-10:,:]\n",
    "x_test = []\n",
    "y_test = dataset[train_count:,:]\n",
    "\n",
    "for i in range(10,len(test_dataset)):\n",
    "    x_test.append(test_dataset[i-10:i,0])\n",
    "\n",
    "x_test = np.array(x_test)\n",
    "x_test = np.reshape(x_test, (x_test.shape[0],x_test.shape[1], 1))\n",
    "x_test.shape"
   ]
  },
  {
   "cell_type": "code",
   "execution_count": 29,
   "metadata": {},
   "outputs": [
    {
     "name": "stdout",
     "output_type": "stream",
     "text": [
      "16/16 [==============================] - 1s 10ms/step\n",
      "lstm shape = (482, 1)\n",
      "16/16 [==============================] - 0s 2ms/step\n",
      "cnn shape = (482, 1)\n"
     ]
    }
   ],
   "source": [
    "lstm_predicts = lstm_model.predict(x_test)\n",
    "print(f\"lstm shape = {lstm_predicts.shape}\")\n",
    "\n",
    "nn_predicts = nn_model.predict(x_test)\n",
    "print(f\"cnn shape = {lstm_predicts.shape}\")"
   ]
  },
  {
   "cell_type": "code",
   "execution_count": 30,
   "metadata": {},
   "outputs": [
    {
     "name": "stdout",
     "output_type": "stream",
     "text": [
      "dict_keys(['loss', 'mae', 'accuracy'])\n",
      "dict_keys(['loss', 'mae', 'accuracy'])\n"
     ]
    }
   ],
   "source": [
    "print(nn_history.history.keys())\n",
    "print(lstm_history.history.keys())"
   ]
  },
  {
   "cell_type": "code",
   "execution_count": 45,
   "metadata": {},
   "outputs": [],
   "source": [
    "h1 = lstm_history.history\n",
    "lstm_loss = h1[\"loss\"]\n",
    "h1 = nn_history.history\n",
    "cnn_loss = h1[\"loss\"]\n",
    "epochs = [i for i in range(1,len(h1[\"loss\"]) + 1)]"
   ]
  },
  {
   "cell_type": "code",
   "execution_count": 66,
   "metadata": {},
   "outputs": [
    {
     "data": {
      "text/plain": [
       "<matplotlib.legend.Legend at 0x26c1ff5d0d0>"
      ]
     },
     "execution_count": 66,
     "metadata": {},
     "output_type": "execute_result"
    },
    {
     "data": {
      "image/png": "[encoded data removed]",
      "text/plain": [
       "<Figure size 1500x500 with 2 Axes>"
      ]
     },
     "metadata": {},
     "output_type": "display_data"
    }
   ],
   "source": [
    "fig, (ax1, ax2) = plt.subplots(1, 2)\n",
    "fig.suptitle('LSTM and CNN loss in every epoch')\n",
    "fig.set_figheight(5)\n",
    "fig.set_figwidth(15)\n",
    "ax1.plot(epochs, lstm_loss, label = \"LSTM loss\")\n",
    "ax1.set(xlabel=\"Ephocs\", ylabel=\"Loss\")\n",
    "ax1.legend()\n",
    "\n",
    "ax2.plot(epochs, cnn_loss, label= \"CNN loss\")\n",
    "ax2.set(xlabel=\"Ephocs\", ylabel=\"Loss\")\n",
    "ax2.legend()\n"
   ]
  },
  {
   "cell_type": "markdown",
   "metadata": {},
   "source": [
    "### Model Validation"
   ]
  },
  {
   "cell_type": "code",
   "execution_count": 31,
   "metadata": {},
   "outputs": [
    {
     "name": "stdout",
     "output_type": "stream",
     "text": [
      "Lstm model Last ephoc loss  = 0.00604840274900198\n",
      "CNN model Last ephoc loss  = 0.01008073054254055\n"
     ]
    }
   ],
   "source": [
    "print(f\"Lstm model Last ephoc loss  = {lstm_history.history['loss'][-1]}\")\n",
    "print(f\"CNN model Last ephoc loss  = {nn_history.history['loss'][-1]}\")"
   ]
  },
  {
   "cell_type": "code",
   "execution_count": 32,
   "metadata": {},
   "outputs": [
    {
     "name": "stdout",
     "output_type": "stream",
     "text": [
      "16/16 [==============================] - 2s 9ms/step - loss: 0.0168 - mae: 0.1103 - accuracy: 0.0000e+00\n"
     ]
    }
   ],
   "source": [
    "lstm_test_loss, lstm_test_acc, _ = lstm_model.evaluate(x_test, y_test) "
   ]
  },
  {
   "cell_type": "code",
   "execution_count": 33,
   "metadata": {},
   "outputs": [
    {
     "name": "stdout",
     "output_type": "stream",
     "text": [
      "16/16 [==============================] - 0s 2ms/step - loss: 0.0058 - mae: 0.0611 - accuracy: 0.0000e+00\n"
     ]
    }
   ],
   "source": [
    "cnn_test_loss, cnn_test_acc, _ = nn_model.evaluate(x_test, y_test) "
   ]
  },
  {
   "cell_type": "code",
   "execution_count": 34,
   "metadata": {},
   "outputs": [
    {
     "data": {
      "text/html": [
       "<div>\n",
       "<style scoped>\n",
       "    .dataframe tbody tr th:only-of-type {\n",
       "        vertical-align: middle;\n",
       "    }\n",
       "\n",
       "    .dataframe tbody tr th {\n",
       "        vertical-align: top;\n",
       "    }\n",
       "\n",
       "    .dataframe thead th {\n",
       "        text-align: right;\n",
       "    }\n",
       "</style>\n",
       "<table border=\"1\" class=\"dataframe\">\n",
       "  <thead>\n",
       "    <tr style=\"text-align: right;\">\n",
       "      <th></th>\n",
       "      <th>LSTM</th>\n",
       "      <th>CNN</th>\n",
       "    </tr>\n",
       "  </thead>\n",
       "  <tbody>\n",
       "    <tr>\n",
       "      <th>acc</th>\n",
       "      <td>0.110324</td>\n",
       "      <td>0.061063</td>\n",
       "    </tr>\n",
       "    <tr>\n",
       "      <th>RSME</th>\n",
       "      <td>0.129618</td>\n",
       "      <td>0.076204</td>\n",
       "    </tr>\n",
       "    <tr>\n",
       "      <th>MSE</th>\n",
       "      <td>0.016801</td>\n",
       "      <td>0.005807</td>\n",
       "    </tr>\n",
       "  </tbody>\n",
       "</table>\n",
       "</div>"
      ],
      "text/plain": [
       "          LSTM       CNN\n",
       "acc   0.110324  0.061063\n",
       "RSME  0.129618  0.076204\n",
       "MSE   0.016801  0.005807"
      ]
     },
     "execution_count": 34,
     "metadata": {},
     "output_type": "execute_result"
    }
   ],
   "source": [
    "data = {'LSTM': [lstm_test_acc,math.sqrt(mean_squared_error(y_test, lstm_predicts)),mean_squared_error(y_test, lstm_predicts)],\n",
    "        'CNN': [cnn_test_acc, math.sqrt(mean_squared_error(y_test, nn_predicts)),mean_squared_error(y_test, nn_predicts)]}\n",
    "errors = pd.DataFrame(data, index=['acc',\n",
    "                               'RSME',\n",
    "                               'MSE'])\n",
    "errors"
   ]
  },
  {
   "cell_type": "code",
   "execution_count": 35,
   "metadata": {},
   "outputs": [
    {
     "data": {
      "text/html": [
       "<div>\n",
       "<style scoped>\n",
       "    .dataframe tbody tr th:only-of-type {\n",
       "        vertical-align: middle;\n",
       "    }\n",
       "\n",
       "    .dataframe tbody tr th {\n",
       "        vertical-align: top;\n",
       "    }\n",
       "\n",
       "    .dataframe thead th {\n",
       "        text-align: right;\n",
       "    }\n",
       "</style>\n",
       "<table border=\"1\" class=\"dataframe\">\n",
       "  <thead>\n",
       "    <tr style=\"text-align: right;\">\n",
       "      <th></th>\n",
       "      <th>Value</th>\n",
       "      <th>predictions(lstm)</th>\n",
       "      <th>predictions(nn)</th>\n",
       "    </tr>\n",
       "    <tr>\n",
       "      <th>dateissue</th>\n",
       "      <th></th>\n",
       "      <th></th>\n",
       "      <th></th>\n",
       "    </tr>\n",
       "  </thead>\n",
       "  <tbody>\n",
       "    <tr>\n",
       "      <th>001225</th>\n",
       "      <td>1345018.2</td>\n",
       "      <td>1459878.125</td>\n",
       "      <td>1378632.250</td>\n",
       "    </tr>\n",
       "    <tr>\n",
       "      <th>001228</th>\n",
       "      <td>1367250.3</td>\n",
       "      <td>1462568.125</td>\n",
       "      <td>1383740.875</td>\n",
       "    </tr>\n",
       "    <tr>\n",
       "      <th>010106</th>\n",
       "      <td>1390859.7</td>\n",
       "      <td>1467594.250</td>\n",
       "      <td>1391686.625</td>\n",
       "    </tr>\n",
       "    <tr>\n",
       "      <th>010107</th>\n",
       "      <td>1403617.9</td>\n",
       "      <td>1475631.875</td>\n",
       "      <td>1400723.500</td>\n",
       "    </tr>\n",
       "    <tr>\n",
       "      <th>010108</th>\n",
       "      <td>1418651.9</td>\n",
       "      <td>1485442.125</td>\n",
       "      <td>1409045.875</td>\n",
       "    </tr>\n",
       "    <tr>\n",
       "      <th>...</th>\n",
       "      <td>...</td>\n",
       "      <td>...</td>\n",
       "      <td>...</td>\n",
       "    </tr>\n",
       "    <tr>\n",
       "      <th>021222</th>\n",
       "      <td>2163501.0</td>\n",
       "      <td>2160513.500</td>\n",
       "      <td>2151022.500</td>\n",
       "    </tr>\n",
       "    <tr>\n",
       "      <th>021223</th>\n",
       "      <td>2150035.3</td>\n",
       "      <td>2164843.750</td>\n",
       "      <td>2154771.250</td>\n",
       "    </tr>\n",
       "    <tr>\n",
       "      <th>021226</th>\n",
       "      <td>2148494.0</td>\n",
       "      <td>2166215.250</td>\n",
       "      <td>2163093.500</td>\n",
       "    </tr>\n",
       "    <tr>\n",
       "      <th>021227</th>\n",
       "      <td>2160406.5</td>\n",
       "      <td>2166209.000</td>\n",
       "      <td>2159030.750</td>\n",
       "    </tr>\n",
       "    <tr>\n",
       "      <th>021228</th>\n",
       "      <td>2195092.3</td>\n",
       "      <td>2166357.000</td>\n",
       "      <td>2163902.250</td>\n",
       "    </tr>\n",
       "  </tbody>\n",
       "</table>\n",
       "<p>482 rows × 3 columns</p>\n",
       "</div>"
      ],
      "text/plain": [
       "               Value  predictions(lstm)  predictions(nn)\n",
       "dateissue                                               \n",
       "001225     1345018.2        1459878.125      1378632.250\n",
       "001228     1367250.3        1462568.125      1383740.875\n",
       "010106     1390859.7        1467594.250      1391686.625\n",
       "010107     1403617.9        1475631.875      1400723.500\n",
       "010108     1418651.9        1485442.125      1409045.875\n",
       "...              ...                ...              ...\n",
       "021222     2163501.0        2160513.500      2151022.500\n",
       "021223     2150035.3        2164843.750      2154771.250\n",
       "021226     2148494.0        2166215.250      2163093.500\n",
       "021227     2160406.5        2166209.000      2159030.750\n",
       "021228     2195092.3        2166357.000      2163902.250\n",
       "\n",
       "[482 rows x 3 columns]"
      ]
     },
     "execution_count": 35,
     "metadata": {},
     "output_type": "execute_result"
    }
   ],
   "source": [
    "train = df[:train_count] * df_mean\n",
    "validation = df[train_count:] * df_mean\n",
    "validation[['predictions(lstm)']] = lstm_predicts * df_mean\n",
    "validation[['predictions(nn)']] = nn_predicts * df_mean\n",
    "clear_output()\n",
    "validation"
   ]
  },
  {
   "cell_type": "code",
   "execution_count": 37,
   "metadata": {},
   "outputs": [
    {
     "data": {
      "image/png": "[encoded data removed]",
      "text/plain": [
       "<Figure size 1300x500 with 1 Axes>"
      ]
     },
     "metadata": {},
     "output_type": "display_data"
    }
   ],
   "source": [
    "plt.figure(figsize=(12,5))\n",
    "plt.plot(train[\"Value\"], color=color_pal[0])\n",
    "plt.plot(validation[[\"Value\"]], color =color_pal[3])\n",
    "plt.plot(validation[[\"predictions(nn)\"]], color=color_pal[1])\n",
    "plt.plot(validation[[\"predictions(lstm)\"]], color=color_pal[2])\n",
    "plt.xticks(np.arange(0, len(df), step=150))\n",
    "plt.title(\"Stock Price Train and Test\")\n",
    "plt.xlabel(\"Date\")\n",
    "plt.ylabel(\"Value (price)\")\n",
    "plt.legend(['Train','validation', 'CNN predictions', 'LSTM predictions'], loc='upper left')\n",
    "fig = plt.gcf()\n",
    "fig.set_size_inches(13, 5)\n",
    "plt.grid()\n",
    "plt.savefig('models-validation-(93-03)')\n",
    "plt.show()\n",
    "\n",
    "# blue = training \n",
    "# red = original validation\n",
    "# orange = predictions using CNN\n",
    "# green = predictions using LSTM"
   ]
  }
 ],
 "metadata": {
  "kernelspec": {
   "display_name": "Python 3",
   "language": "python",
   "name": "python3"
  },
  "language_info": {
   "codemirror_mode": {
    "name": "ipython",
    "version": 3
   },
   "file_extension": ".py",
   "mimetype": "text/x-python",
   "name": "python",
   "nbconvert_exporter": "python",
   "pygments_lexer": "ipython3",
   "version": "3.11.3"
  }
 },
 "nbformat": 4,
 "nbformat_minor": 2
}
