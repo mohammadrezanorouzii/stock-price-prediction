{
 "cells": [
  {
   "cell_type": "markdown",
   "metadata": {},
   "source": [
    "## imports "
   ]
  },
  {
   "cell_type": "code",
   "execution_count": 60,
   "metadata": {},
   "outputs": [],
   "source": [
    "import pandas as pd\n",
    "import numpy as np\n",
    "import seaborn as sns\n",
    "import math\n",
    "import matplotlib.pyplot as plt\n",
    "from sklearn.preprocessing import MinMaxScaler\n",
    "from IPython.display import clear_output\n",
    "from tensorflow import keras\n",
    "from keras.models import Sequential\n",
    "from keras import layers\n",
    "from keras.layers import Dense,LSTM,Dropout,Activation,BatchNormalization,Conv1D,MaxPooling1D,Flatten\n",
    "from sklearn.metrics import mean_squared_error\n"
   ]
  },
  {
   "cell_type": "markdown",
   "metadata": {},
   "source": [
    "### Load Dataset\n",
    "##### the following dataset contains Iran stock index price since **2014(1393)** to **2019(1397)**"
   ]
  },
  {
   "cell_type": "code",
   "execution_count": 61,
   "metadata": {},
   "outputs": [
    {
     "data": {
      "text/html": [
       "<div>\n",
       "<style scoped>\n",
       "    .dataframe tbody tr th:only-of-type {\n",
       "        vertical-align: middle;\n",
       "    }\n",
       "\n",
       "    .dataframe tbody tr th {\n",
       "        vertical-align: top;\n",
       "    }\n",
       "\n",
       "    .dataframe thead th {\n",
       "        text-align: right;\n",
       "    }\n",
       "</style>\n",
       "<table border=\"1\" class=\"dataframe\">\n",
       "  <thead>\n",
       "    <tr style=\"text-align: right;\">\n",
       "      <th></th>\n",
       "      <th>name</th>\n",
       "      <th>dateissue</th>\n",
       "      <th>Value</th>\n",
       "    </tr>\n",
       "  </thead>\n",
       "  <tbody>\n",
       "    <tr>\n",
       "      <th>0</th>\n",
       "      <td>????</td>\n",
       "      <td>14021228</td>\n",
       "      <td>2195092.3</td>\n",
       "    </tr>\n",
       "    <tr>\n",
       "      <th>1</th>\n",
       "      <td>????</td>\n",
       "      <td>14021227</td>\n",
       "      <td>2160406.5</td>\n",
       "    </tr>\n",
       "    <tr>\n",
       "      <th>2</th>\n",
       "      <td>????</td>\n",
       "      <td>14021226</td>\n",
       "      <td>2148494.0</td>\n",
       "    </tr>\n",
       "    <tr>\n",
       "      <th>3</th>\n",
       "      <td>????</td>\n",
       "      <td>14021223</td>\n",
       "      <td>2150035.3</td>\n",
       "    </tr>\n",
       "    <tr>\n",
       "      <th>4</th>\n",
       "      <td>????</td>\n",
       "      <td>14021222</td>\n",
       "      <td>2163501.0</td>\n",
       "    </tr>\n",
       "    <tr>\n",
       "      <th>...</th>\n",
       "      <td>...</td>\n",
       "      <td>...</td>\n",
       "      <td>...</td>\n",
       "    </tr>\n",
       "    <tr>\n",
       "      <th>2408</th>\n",
       "      <td>????</td>\n",
       "      <td>13930111</td>\n",
       "      <td>78741.3</td>\n",
       "    </tr>\n",
       "    <tr>\n",
       "      <th>2409</th>\n",
       "      <td>????</td>\n",
       "      <td>13930110</td>\n",
       "      <td>78469.2</td>\n",
       "    </tr>\n",
       "    <tr>\n",
       "      <th>2410</th>\n",
       "      <td>????</td>\n",
       "      <td>13930109</td>\n",
       "      <td>78239.7</td>\n",
       "    </tr>\n",
       "    <tr>\n",
       "      <th>2411</th>\n",
       "      <td>????</td>\n",
       "      <td>13930106</td>\n",
       "      <td>78619.4</td>\n",
       "    </tr>\n",
       "    <tr>\n",
       "      <th>2412</th>\n",
       "      <td>????</td>\n",
       "      <td>13930105</td>\n",
       "      <td>79013.5</td>\n",
       "    </tr>\n",
       "  </tbody>\n",
       "</table>\n",
       "<p>2413 rows × 3 columns</p>\n",
       "</div>"
      ],
      "text/plain": [
       "      name  dateissue      Value\n",
       "0     ????   14021228  2195092.3\n",
       "1     ????   14021227  2160406.5\n",
       "2     ????   14021226  2148494.0\n",
       "3     ????   14021223  2150035.3\n",
       "4     ????   14021222  2163501.0\n",
       "...    ...        ...        ...\n",
       "2408  ????   13930111    78741.3\n",
       "2409  ????   13930110    78469.2\n",
       "2410  ????   13930109    78239.7\n",
       "2411  ????   13930106    78619.4\n",
       "2412  ????   13930105    79013.5\n",
       "\n",
       "[2413 rows x 3 columns]"
      ]
     },
     "execution_count": 61,
     "metadata": {},
     "output_type": "execute_result"
    }
   ],
   "source": [
    "# df = pd.read_csv(r\"C:\\Users\\moham\\Documents\\Projects\\stock-price-prediction\\data\\1393-1397.csv\")\n",
    "df = pd.read_csv(r\"C:\\Users\\moham\\Documents\\Projects\\stock-price-prediction\\data\\1393--1403.csv\")\n",
    "df"
   ]
  },
  {
   "cell_type": "code",
   "execution_count": 62,
   "metadata": {},
   "outputs": [
    {
     "data": {
      "text/html": [
       "<div>\n",
       "<style scoped>\n",
       "    .dataframe tbody tr th:only-of-type {\n",
       "        vertical-align: middle;\n",
       "    }\n",
       "\n",
       "    .dataframe tbody tr th {\n",
       "        vertical-align: top;\n",
       "    }\n",
       "\n",
       "    .dataframe thead th {\n",
       "        text-align: right;\n",
       "    }\n",
       "</style>\n",
       "<table border=\"1\" class=\"dataframe\">\n",
       "  <thead>\n",
       "    <tr style=\"text-align: right;\">\n",
       "      <th></th>\n",
       "      <th>name</th>\n",
       "      <th>dateissue</th>\n",
       "      <th>Value</th>\n",
       "    </tr>\n",
       "  </thead>\n",
       "  <tbody>\n",
       "    <tr>\n",
       "      <th>2412</th>\n",
       "      <td>????</td>\n",
       "      <td>13930105</td>\n",
       "      <td>79013.5</td>\n",
       "    </tr>\n",
       "    <tr>\n",
       "      <th>2411</th>\n",
       "      <td>????</td>\n",
       "      <td>13930106</td>\n",
       "      <td>78619.4</td>\n",
       "    </tr>\n",
       "    <tr>\n",
       "      <th>2410</th>\n",
       "      <td>????</td>\n",
       "      <td>13930109</td>\n",
       "      <td>78239.7</td>\n",
       "    </tr>\n",
       "    <tr>\n",
       "      <th>2409</th>\n",
       "      <td>????</td>\n",
       "      <td>13930110</td>\n",
       "      <td>78469.2</td>\n",
       "    </tr>\n",
       "    <tr>\n",
       "      <th>2408</th>\n",
       "      <td>????</td>\n",
       "      <td>13930111</td>\n",
       "      <td>78741.3</td>\n",
       "    </tr>\n",
       "    <tr>\n",
       "      <th>...</th>\n",
       "      <td>...</td>\n",
       "      <td>...</td>\n",
       "      <td>...</td>\n",
       "    </tr>\n",
       "    <tr>\n",
       "      <th>4</th>\n",
       "      <td>????</td>\n",
       "      <td>14021222</td>\n",
       "      <td>2163501.0</td>\n",
       "    </tr>\n",
       "    <tr>\n",
       "      <th>3</th>\n",
       "      <td>????</td>\n",
       "      <td>14021223</td>\n",
       "      <td>2150035.3</td>\n",
       "    </tr>\n",
       "    <tr>\n",
       "      <th>2</th>\n",
       "      <td>????</td>\n",
       "      <td>14021226</td>\n",
       "      <td>2148494.0</td>\n",
       "    </tr>\n",
       "    <tr>\n",
       "      <th>1</th>\n",
       "      <td>????</td>\n",
       "      <td>14021227</td>\n",
       "      <td>2160406.5</td>\n",
       "    </tr>\n",
       "    <tr>\n",
       "      <th>0</th>\n",
       "      <td>????</td>\n",
       "      <td>14021228</td>\n",
       "      <td>2195092.3</td>\n",
       "    </tr>\n",
       "  </tbody>\n",
       "</table>\n",
       "<p>2413 rows × 3 columns</p>\n",
       "</div>"
      ],
      "text/plain": [
       "      name  dateissue      Value\n",
       "2412  ????   13930105    79013.5\n",
       "2411  ????   13930106    78619.4\n",
       "2410  ????   13930109    78239.7\n",
       "2409  ????   13930110    78469.2\n",
       "2408  ????   13930111    78741.3\n",
       "...    ...        ...        ...\n",
       "4     ????   14021222  2163501.0\n",
       "3     ????   14021223  2150035.3\n",
       "2     ????   14021226  2148494.0\n",
       "1     ????   14021227  2160406.5\n",
       "0     ????   14021228  2195092.3\n",
       "\n",
       "[2413 rows x 3 columns]"
      ]
     },
     "execution_count": 62,
     "metadata": {},
     "output_type": "execute_result"
    }
   ],
   "source": [
    "df = df.iloc[::-1] \n",
    "df"
   ]
  },
  {
   "cell_type": "code",
   "execution_count": 63,
   "metadata": {},
   "outputs": [],
   "source": [
    "df = df[[\"dateissue\" , \"Value\"]] # delete شاخص column"
   ]
  },
  {
   "cell_type": "code",
   "execution_count": 64,
   "metadata": {},
   "outputs": [],
   "source": [
    "color_pal = sns.color_palette()"
   ]
  },
  {
   "cell_type": "code",
   "execution_count": 65,
   "metadata": {},
   "outputs": [
    {
     "data": {
      "text/html": [
       "<div>\n",
       "<style scoped>\n",
       "    .dataframe tbody tr th:only-of-type {\n",
       "        vertical-align: middle;\n",
       "    }\n",
       "\n",
       "    .dataframe tbody tr th {\n",
       "        vertical-align: top;\n",
       "    }\n",
       "\n",
       "    .dataframe thead th {\n",
       "        text-align: right;\n",
       "    }\n",
       "</style>\n",
       "<table border=\"1\" class=\"dataframe\">\n",
       "  <thead>\n",
       "    <tr style=\"text-align: right;\">\n",
       "      <th></th>\n",
       "      <th>dateissue</th>\n",
       "      <th>Value</th>\n",
       "    </tr>\n",
       "  </thead>\n",
       "  <tbody>\n",
       "    <tr>\n",
       "      <th>2412</th>\n",
       "      <td>13930105</td>\n",
       "      <td>79013.5</td>\n",
       "    </tr>\n",
       "    <tr>\n",
       "      <th>2411</th>\n",
       "      <td>13930106</td>\n",
       "      <td>78619.4</td>\n",
       "    </tr>\n",
       "    <tr>\n",
       "      <th>2410</th>\n",
       "      <td>13930109</td>\n",
       "      <td>78239.7</td>\n",
       "    </tr>\n",
       "    <tr>\n",
       "      <th>2409</th>\n",
       "      <td>13930110</td>\n",
       "      <td>78469.2</td>\n",
       "    </tr>\n",
       "    <tr>\n",
       "      <th>2408</th>\n",
       "      <td>13930111</td>\n",
       "      <td>78741.3</td>\n",
       "    </tr>\n",
       "    <tr>\n",
       "      <th>...</th>\n",
       "      <td>...</td>\n",
       "      <td>...</td>\n",
       "    </tr>\n",
       "    <tr>\n",
       "      <th>1423</th>\n",
       "      <td>13970205</td>\n",
       "      <td>94796.1</td>\n",
       "    </tr>\n",
       "    <tr>\n",
       "      <th>1422</th>\n",
       "      <td>13970208</td>\n",
       "      <td>94284.4</td>\n",
       "    </tr>\n",
       "    <tr>\n",
       "      <th>1421</th>\n",
       "      <td>13970209</td>\n",
       "      <td>93805.5</td>\n",
       "    </tr>\n",
       "    <tr>\n",
       "      <th>1420</th>\n",
       "      <td>13970210</td>\n",
       "      <td>93586.9</td>\n",
       "    </tr>\n",
       "    <tr>\n",
       "      <th>1419</th>\n",
       "      <td>13970211</td>\n",
       "      <td>93612.1</td>\n",
       "    </tr>\n",
       "  </tbody>\n",
       "</table>\n",
       "<p>994 rows × 2 columns</p>\n",
       "</div>"
      ],
      "text/plain": [
       "      dateissue    Value\n",
       "2412   13930105  79013.5\n",
       "2411   13930106  78619.4\n",
       "2410   13930109  78239.7\n",
       "2409   13930110  78469.2\n",
       "2408   13930111  78741.3\n",
       "...         ...      ...\n",
       "1423   13970205  94796.1\n",
       "1422   13970208  94284.4\n",
       "1421   13970209  93805.5\n",
       "1420   13970210  93586.9\n",
       "1419   13970211  93612.1\n",
       "\n",
       "[994 rows x 2 columns]"
      ]
     },
     "execution_count": 65,
     "metadata": {},
     "output_type": "execute_result"
    }
   ],
   "source": [
    "df1 = df[df[\"dateissue\"] > 13970211] #barjam date\n",
    "df2 = df[df[\"dateissue\"] <= 13970211]\n",
    "df2"
   ]
  },
  {
   "cell_type": "code",
   "execution_count": 66,
   "metadata": {},
   "outputs": [
    {
     "data": {
      "image/png": "[encoded data removed]",
      "text/plain": [
       "<Figure size 1500x800 with 1 Axes>"
      ]
     },
     "metadata": {},
     "output_type": "display_data"
    }
   ],
   "source": [
    "df['dateissue'] = df['dateissue'].apply(lambda x: str(x)[-6:])\n",
    "df.plot( x=\"dateissue\", y=\"Value\", style='.', figsize=(15,8), color=color_pal[3])\n",
    "clear_output()\n",
    "plt.show()"
   ]
  },
  {
   "cell_type": "code",
   "execution_count": 67,
   "metadata": {},
   "outputs": [],
   "source": [
    "df1['dateissue'] = df1['dateissue'].apply(lambda x: str(x)[-6:])\n",
    "df2['dateissue'] = df2['dateissue'].apply(lambda x: str(x)[-6:])\n",
    "clear_output()"
   ]
  },
  {
   "cell_type": "code",
   "execution_count": 68,
   "metadata": {},
   "outputs": [
    {
     "data": {
      "image/png": "[encoded data removed]",
      "text/plain": [
       "<Figure size 1500x500 with 1 Axes>"
      ]
     },
     "metadata": {},
     "output_type": "display_data"
    }
   ],
   "source": [
    "plt.plot(df2[\"dateissue\"], df2[\"Value\"], color=color_pal[9])\n",
    "plt.plot(df1[\"dateissue\"], df1[\"Value\"], color=color_pal[3]) # after barjam (red)\n",
    "plt.xticks(np.arange(0, len(df), step=150))\n",
    "fig = plt.gcf()\n",
    "fig.set_size_inches(15, 5)\n",
    "plt.show()"
   ]
  },
  {
   "cell_type": "code",
   "execution_count": 69,
   "metadata": {},
   "outputs": [
    {
     "data": {
      "text/plain": [
       "(2413, 2)"
      ]
     },
     "execution_count": 69,
     "metadata": {},
     "output_type": "execute_result"
    }
   ],
   "source": [
    "df.shape"
   ]
  },
  {
   "cell_type": "code",
   "execution_count": 70,
   "metadata": {},
   "outputs": [
    {
     "data": {
      "text/html": [
       "<div>\n",
       "<style scoped>\n",
       "    .dataframe tbody tr th:only-of-type {\n",
       "        vertical-align: middle;\n",
       "    }\n",
       "\n",
       "    .dataframe tbody tr th {\n",
       "        vertical-align: top;\n",
       "    }\n",
       "\n",
       "    .dataframe thead th {\n",
       "        text-align: right;\n",
       "    }\n",
       "</style>\n",
       "<table border=\"1\" class=\"dataframe\">\n",
       "  <thead>\n",
       "    <tr style=\"text-align: right;\">\n",
       "      <th></th>\n",
       "      <th>Value</th>\n",
       "    </tr>\n",
       "    <tr>\n",
       "      <th>dateissue</th>\n",
       "      <th></th>\n",
       "    </tr>\n",
       "  </thead>\n",
       "  <tbody>\n",
       "    <tr>\n",
       "      <th>930105</th>\n",
       "      <td>79013.5</td>\n",
       "    </tr>\n",
       "    <tr>\n",
       "      <th>930106</th>\n",
       "      <td>78619.4</td>\n",
       "    </tr>\n",
       "    <tr>\n",
       "      <th>930109</th>\n",
       "      <td>78239.7</td>\n",
       "    </tr>\n",
       "    <tr>\n",
       "      <th>930110</th>\n",
       "      <td>78469.2</td>\n",
       "    </tr>\n",
       "    <tr>\n",
       "      <th>930111</th>\n",
       "      <td>78741.3</td>\n",
       "    </tr>\n",
       "    <tr>\n",
       "      <th>...</th>\n",
       "      <td>...</td>\n",
       "    </tr>\n",
       "    <tr>\n",
       "      <th>021222</th>\n",
       "      <td>2163501.0</td>\n",
       "    </tr>\n",
       "    <tr>\n",
       "      <th>021223</th>\n",
       "      <td>2150035.3</td>\n",
       "    </tr>\n",
       "    <tr>\n",
       "      <th>021226</th>\n",
       "      <td>2148494.0</td>\n",
       "    </tr>\n",
       "    <tr>\n",
       "      <th>021227</th>\n",
       "      <td>2160406.5</td>\n",
       "    </tr>\n",
       "    <tr>\n",
       "      <th>021228</th>\n",
       "      <td>2195092.3</td>\n",
       "    </tr>\n",
       "  </tbody>\n",
       "</table>\n",
       "<p>2413 rows × 1 columns</p>\n",
       "</div>"
      ],
      "text/plain": [
       "               Value\n",
       "dateissue           \n",
       "930105       79013.5\n",
       "930106       78619.4\n",
       "930109       78239.7\n",
       "930110       78469.2\n",
       "930111       78741.3\n",
       "...              ...\n",
       "021222     2163501.0\n",
       "021223     2150035.3\n",
       "021226     2148494.0\n",
       "021227     2160406.5\n",
       "021228     2195092.3\n",
       "\n",
       "[2413 rows x 1 columns]"
      ]
     },
     "execution_count": 70,
     "metadata": {},
     "output_type": "execute_result"
    }
   ],
   "source": [
    "df.index = df.pop(\"dateissue\")\n",
    "df"
   ]
  },
  {
   "cell_type": "markdown",
   "metadata": {},
   "source": [
    "### preprocessing"
   ]
  },
  {
   "cell_type": "code",
   "execution_count": 71,
   "metadata": {},
   "outputs": [
    {
     "data": {
      "text/html": [
       "<div>\n",
       "<style scoped>\n",
       "    .dataframe tbody tr th:only-of-type {\n",
       "        vertical-align: middle;\n",
       "    }\n",
       "\n",
       "    .dataframe tbody tr th {\n",
       "        vertical-align: top;\n",
       "    }\n",
       "\n",
       "    .dataframe thead th {\n",
       "        text-align: right;\n",
       "    }\n",
       "</style>\n",
       "<table border=\"1\" class=\"dataframe\">\n",
       "  <thead>\n",
       "    <tr style=\"text-align: right;\">\n",
       "      <th></th>\n",
       "      <th>Value</th>\n",
       "    </tr>\n",
       "    <tr>\n",
       "      <th>dateissue</th>\n",
       "      <th></th>\n",
       "    </tr>\n",
       "  </thead>\n",
       "  <tbody>\n",
       "    <tr>\n",
       "      <th>930105</th>\n",
       "      <td>0.112551</td>\n",
       "    </tr>\n",
       "    <tr>\n",
       "      <th>930106</th>\n",
       "      <td>0.111990</td>\n",
       "    </tr>\n",
       "    <tr>\n",
       "      <th>930109</th>\n",
       "      <td>0.111449</td>\n",
       "    </tr>\n",
       "    <tr>\n",
       "      <th>930110</th>\n",
       "      <td>0.111776</td>\n",
       "    </tr>\n",
       "    <tr>\n",
       "      <th>930111</th>\n",
       "      <td>0.112163</td>\n",
       "    </tr>\n",
       "    <tr>\n",
       "      <th>...</th>\n",
       "      <td>...</td>\n",
       "    </tr>\n",
       "    <tr>\n",
       "      <th>021222</th>\n",
       "      <td>3.081804</td>\n",
       "    </tr>\n",
       "    <tr>\n",
       "      <th>021223</th>\n",
       "      <td>3.062623</td>\n",
       "    </tr>\n",
       "    <tr>\n",
       "      <th>021226</th>\n",
       "      <td>3.060427</td>\n",
       "    </tr>\n",
       "    <tr>\n",
       "      <th>021227</th>\n",
       "      <td>3.077396</td>\n",
       "    </tr>\n",
       "    <tr>\n",
       "      <th>021228</th>\n",
       "      <td>3.126804</td>\n",
       "    </tr>\n",
       "  </tbody>\n",
       "</table>\n",
       "<p>2413 rows × 1 columns</p>\n",
       "</div>"
      ],
      "text/plain": [
       "              Value\n",
       "dateissue          \n",
       "930105     0.112551\n",
       "930106     0.111990\n",
       "930109     0.111449\n",
       "930110     0.111776\n",
       "930111     0.112163\n",
       "...             ...\n",
       "021222     3.081804\n",
       "021223     3.062623\n",
       "021226     3.060427\n",
       "021227     3.077396\n",
       "021228     3.126804\n",
       "\n",
       "[2413 rows x 1 columns]"
      ]
     },
     "execution_count": 71,
     "metadata": {},
     "output_type": "execute_result"
    }
   ],
   "source": [
    "# scaler = MinMaxScaler(feature_range=(0,1))\n",
    "# dataset = scaler.fit_transform(dataset)\n",
    "# dataset\n",
    "\n",
    "# test_dataset = [i for i in dataset if i not in train_dataset]\n",
    "# test_dataset\n",
    "\n",
    "# df['Value'] = df['Value'] / 100000\n",
    "\n",
    "df_mean = df['Value'].mean()\n",
    "df['Value'] = df['Value'] / df_mean\n",
    "clear_output()\n",
    "df"
   ]
  },
  {
   "cell_type": "code",
   "execution_count": 72,
   "metadata": {},
   "outputs": [],
   "source": [
    "dataset = df.values"
   ]
  },
  {
   "cell_type": "markdown",
   "metadata": {},
   "source": [
    "### split train and test datasets  "
   ]
  },
  {
   "cell_type": "code",
   "execution_count": 73,
   "metadata": {},
   "outputs": [
    {
     "name": "stdout",
     "output_type": "stream",
     "text": [
      "1931\n",
      "482\n",
      "(2413, 1)\n"
     ]
    }
   ],
   "source": [
    "train_count = math.ceil(len(dataset) * 0.80) # find 80% of our dataset\n",
    "print(train_count)\n",
    "print(len(dataset)-train_count)\n",
    "print(dataset.shape)"
   ]
  },
  {
   "cell_type": "code",
   "execution_count": 74,
   "metadata": {},
   "outputs": [
    {
     "data": {
      "text/plain": [
       "array([[0.11255096],\n",
       "       [0.11198958],\n",
       "       [0.11144872],\n",
       "       ...,\n",
       "       [1.90217997],\n",
       "       [1.90132601],\n",
       "       [1.90481065]])"
      ]
     },
     "execution_count": 74,
     "metadata": {},
     "output_type": "execute_result"
    }
   ],
   "source": [
    "train_dataset = dataset[0:train_count]\n",
    "train_dataset = np.array(train_dataset)\n",
    "train_dataset"
   ]
  },
  {
   "cell_type": "markdown",
   "metadata": {},
   "source": [
    "##### *we create a sequence(to make an iteratin on the dataset) for every data in the dataframe to use it for lstm and rnn  models in the future.*"
   ]
  },
  {
   "cell_type": "code",
   "execution_count": 75,
   "metadata": {},
   "outputs": [
    {
     "name": "stdout",
     "output_type": "stream",
     "text": [
      "[array([0.11255096, 0.11198958, 0.11144872, 0.11177563, 0.11216323,\n",
      "       0.11188745, 0.11058693, 0.1102791 , 0.11084732, 0.11028665])]\n",
      "[0.10897316436782095]\n"
     ]
    }
   ],
   "source": [
    "x_train = []\n",
    "y_train = []\n",
    "\n",
    "for i in range(10,train_count):\n",
    "    x_train.append(train_dataset[i-10:i, 0])\n",
    "    y_train.append(train_dataset[i,0])\n",
    "    if i<=10 : #we can get the first round of the train dataset which we created\n",
    "        print(x_train)\n",
    "        print(y_train)"
   ]
  },
  {
   "cell_type": "code",
   "execution_count": 76,
   "metadata": {},
   "outputs": [
    {
     "data": {
      "text/plain": [
       "(1921, 10)"
      ]
     },
     "execution_count": 76,
     "metadata": {},
     "output_type": "execute_result"
    }
   ],
   "source": [
    "x_train, y_train = np.array(x_train), np.array(y_train)\n",
    "x_train.shape"
   ]
  },
  {
   "cell_type": "code",
   "execution_count": 77,
   "metadata": {},
   "outputs": [
    {
     "data": {
      "text/plain": [
       "(1921, 10, 1)"
      ]
     },
     "execution_count": 77,
     "metadata": {},
     "output_type": "execute_result"
    }
   ],
   "source": [
    "x_train = np.reshape(x_train, (x_train.shape[0], x_train.shape[1], 1))\n",
    "x_train.shape"
   ]
  },
  {
   "cell_type": "markdown",
   "metadata": {},
   "source": [
    "### create models: \n",
    "1. LSTM\n",
    "2. CNN"
   ]
  },
  {
   "cell_type": "code",
   "execution_count": 78,
   "metadata": {},
   "outputs": [],
   "source": [
    "lstm_model = Sequential()\n",
    "nn_model = Sequential()"
   ]
  },
  {
   "cell_type": "code",
   "execution_count": 79,
   "metadata": {},
   "outputs": [],
   "source": [
    "# model = Sequential([\n",
    "#     layers.LSTM(50, return_sequences=True, input_shape=(10,1)),\n",
    "#     layers.LSTM(50, return_sequences=False),\n",
    "#     layers.Dense(32, activation='relu'),\n",
    "#     layers.Dropout(0.3),\n",
    "#     layers.BatchNormalization(),\n",
    "#     layers.Dense(16, activation='relu'),\n",
    "#     layers.Dropout(0.3),\n",
    "#     layers.BatchNormalization(),\n",
    "#     layers.Dense(1, activation='relu'),\n",
    "# ])\n",
    "\n",
    "lstm_model.add(LSTM(50, input_shape = (10,1), return_sequences = True))\n",
    "lstm_model.add(Dropout(0.2))\n",
    "lstm_model.add(LSTM(256))\n",
    "lstm_model.add(Dropout(0.2))\n",
    "lstm_model.add(Dense(1))\n",
    "# lstm_model.add(Activation(\"linear\"))\n",
    "\n",
    "# model.add(LSTM(50, return_sequences=True, input_shape=(10,1)))\n",
    "# model.add(LSTM(50, return_sequences=False))\n",
    "# model.add(Dense(64))\n",
    "# model.add(Dense(32))\n",
    "# model.add(Dense(8))\n",
    "# model.add(Dense(1))"
   ]
  },
  {
   "cell_type": "code",
   "execution_count": 80,
   "metadata": {},
   "outputs": [],
   "source": [
    "nn_model.add(Dense(128,input_shape=(10,1)))\n",
    "nn_model.add(Conv1D(filters = 112, kernel_size= 1,padding='valid', activation='relu'))\n",
    "nn_model.add(MaxPooling1D(pool_size=2, padding='valid'))\n",
    "nn_model.add(Conv1D(filters = 64,kernel_size = 1,padding='valid', activation='relu'))\n",
    "nn_model.add(MaxPooling1D(pool_size=1, padding='valid'))\n",
    "nn_model.add(Dropout(0.2))\n",
    "nn_model.add(Flatten())\n",
    "nn_model.add(Dense(100, activation=\"linear\"))\n",
    "nn_model.add(Dropout(0.2))\n",
    "nn_model.add(Dense(1))"
   ]
  },
  {
   "cell_type": "code",
   "execution_count": 81,
   "metadata": {},
   "outputs": [
    {
     "name": "stdout",
     "output_type": "stream",
     "text": [
      "You must install pydot (`pip install pydot`) and install graphviz (see instructions at https://graphviz.gitlab.io/download/) for plot_model to work.\n"
     ]
    }
   ],
   "source": [
    "keras.utils.plot_model(lstm_model) "
   ]
  },
  {
   "cell_type": "code",
   "execution_count": 82,
   "metadata": {},
   "outputs": [],
   "source": [
    "lstm_model.compile(loss=\"mse\", optimizer=\"adam\", metrics=['mae', 'accuracy'])\n",
    "nn_model.compile(loss=\"mse\", optimizer=\"adam\", metrics=['mae', 'accuracy'])"
   ]
  },
  {
   "cell_type": "code",
   "execution_count": 83,
   "metadata": {},
   "outputs": [
    {
     "name": "stdout",
     "output_type": "stream",
     "text": [
      "Model: \"sequential_2\"\n",
      "_________________________________________________________________\n",
      " Layer (type)                Output Shape              Param #   \n",
      "=================================================================\n",
      " lstm_2 (LSTM)               (None, 10, 50)            10400     \n",
      "                                                                 \n",
      " dropout_4 (Dropout)         (None, 10, 50)            0         \n",
      "                                                                 \n",
      " lstm_3 (LSTM)               (None, 256)               314368    \n",
      "                                                                 \n",
      " dropout_5 (Dropout)         (None, 256)               0         \n",
      "                                                                 \n",
      " dense_4 (Dense)             (None, 1)                 257       \n",
      "                                                                 \n",
      "=================================================================\n",
      "Total params: 325,025\n",
      "Trainable params: 325,025\n",
      "Non-trainable params: 0\n",
      "_________________________________________________________________\n"
     ]
    }
   ],
   "source": [
    "lstm_model.summary()"
   ]
  },
  {
   "cell_type": "code",
   "execution_count": 84,
   "metadata": {},
   "outputs": [
    {
     "name": "stdout",
     "output_type": "stream",
     "text": [
      "Model: \"sequential_3\"\n",
      "_________________________________________________________________\n",
      " Layer (type)                Output Shape              Param #   \n",
      "=================================================================\n",
      " dense_5 (Dense)             (None, 10, 128)           256       \n",
      "                                                                 \n",
      " conv1d_2 (Conv1D)           (None, 10, 112)           14448     \n",
      "                                                                 \n",
      " max_pooling1d_2 (MaxPooling  (None, 5, 112)           0         \n",
      " 1D)                                                             \n",
      "                                                                 \n",
      " conv1d_3 (Conv1D)           (None, 5, 64)             7232      \n",
      "                                                                 \n",
      " max_pooling1d_3 (MaxPooling  (None, 5, 64)            0         \n",
      " 1D)                                                             \n",
      "                                                                 \n",
      " dropout_6 (Dropout)         (None, 5, 64)             0         \n",
      "                                                                 \n",
      " flatten_1 (Flatten)         (None, 320)               0         \n",
      "                                                                 \n",
      " dense_6 (Dense)             (None, 100)               32100     \n",
      "                                                                 \n",
      " dropout_7 (Dropout)         (None, 100)               0         \n",
      "                                                                 \n",
      " dense_7 (Dense)             (None, 1)                 101       \n",
      "                                                                 \n",
      "=================================================================\n",
      "Total params: 54,137\n",
      "Trainable params: 54,137\n",
      "Non-trainable params: 0\n",
      "_________________________________________________________________\n"
     ]
    }
   ],
   "source": [
    "nn_model.summary()"
   ]
  },
  {
   "cell_type": "markdown",
   "metadata": {},
   "source": [
    "### fit models"
   ]
  },
  {
   "cell_type": "code",
   "execution_count": 85,
   "metadata": {},
   "outputs": [
    {
     "name": "stdout",
     "output_type": "stream",
     "text": [
      "Epoch 1/10\n"
     ]
    },
    {
     "name": "stdout",
     "output_type": "stream",
     "text": [
      "193/193 [==============================] - 8s 16ms/step - loss: 0.0307 - mae: 0.0772 - accuracy: 0.0000e+00\n",
      "Epoch 2/10\n",
      "193/193 [==============================] - 3s 15ms/step - loss: 0.0080 - mae: 0.0445 - accuracy: 0.0000e+00\n",
      "Epoch 3/10\n",
      "193/193 [==============================] - 3s 14ms/step - loss: 0.0095 - mae: 0.0508 - accuracy: 0.0000e+00\n",
      "Epoch 4/10\n",
      "193/193 [==============================] - 3s 14ms/step - loss: 0.0085 - mae: 0.0470 - accuracy: 0.0000e+00\n",
      "Epoch 5/10\n",
      "193/193 [==============================] - 3s 15ms/step - loss: 0.0087 - mae: 0.0477 - accuracy: 0.0000e+00\n",
      "Epoch 6/10\n",
      "193/193 [==============================] - 3s 14ms/step - loss: 0.0067 - mae: 0.0418 - accuracy: 0.0000e+00\n",
      "Epoch 7/10\n",
      "193/193 [==============================] - 3s 14ms/step - loss: 0.0059 - mae: 0.0395 - accuracy: 0.0000e+00\n",
      "Epoch 8/10\n",
      "193/193 [==============================] - 3s 16ms/step - loss: 0.0056 - mae: 0.0377 - accuracy: 0.0000e+00\n",
      "Epoch 9/10\n",
      "193/193 [==============================] - 3s 14ms/step - loss: 0.0082 - mae: 0.0463 - accuracy: 0.0000e+00\n",
      "Epoch 10/10\n",
      "193/193 [==============================] - 3s 13ms/step - loss: 0.0061 - mae: 0.0401 - accuracy: 0.0000e+00\n"
     ]
    }
   ],
   "source": [
    "lstm_history = lstm_model.fit(x_train, y_train, batch_size=10, epochs=10)"
   ]
  },
  {
   "cell_type": "code",
   "execution_count": 86,
   "metadata": {},
   "outputs": [
    {
     "name": "stdout",
     "output_type": "stream",
     "text": [
      "Epoch 1/10\n",
      "193/193 [==============================] - 2s 3ms/step - loss: 0.0337 - mae: 0.0918 - accuracy: 0.0000e+00\n",
      "Epoch 2/10\n",
      "193/193 [==============================] - 1s 3ms/step - loss: 0.0126 - mae: 0.0585 - accuracy: 0.0000e+00\n",
      "Epoch 3/10\n",
      "193/193 [==============================] - 1s 3ms/step - loss: 0.0129 - mae: 0.0615 - accuracy: 0.0000e+00\n",
      "Epoch 4/10\n",
      "193/193 [==============================] - 1s 3ms/step - loss: 0.0128 - mae: 0.0609 - accuracy: 0.0000e+00\n",
      "Epoch 5/10\n",
      "193/193 [==============================] - 1s 3ms/step - loss: 0.0136 - mae: 0.0650 - accuracy: 0.0000e+00\n",
      "Epoch 6/10\n",
      "193/193 [==============================] - 1s 3ms/step - loss: 0.0122 - mae: 0.0619 - accuracy: 0.0000e+00\n",
      "Epoch 7/10\n",
      "193/193 [==============================] - 1s 3ms/step - loss: 0.0107 - mae: 0.0592 - accuracy: 0.0000e+00\n",
      "Epoch 8/10\n",
      "193/193 [==============================] - 1s 3ms/step - loss: 0.0141 - mae: 0.0672 - accuracy: 0.0000e+00\n",
      "Epoch 9/10\n",
      "193/193 [==============================] - 1s 3ms/step - loss: 0.0115 - mae: 0.0610 - accuracy: 0.0000e+00\n",
      "Epoch 10/10\n",
      "193/193 [==============================] - 1s 3ms/step - loss: 0.0095 - mae: 0.0570 - accuracy: 0.0000e+00\n"
     ]
    }
   ],
   "source": [
    "nn_history = nn_model.fit(x_train, y_train, batch_size=10, epochs=10)"
   ]
  },
  {
   "cell_type": "markdown",
   "metadata": {},
   "source": [
    "### create test array"
   ]
  },
  {
   "cell_type": "code",
   "execution_count": 87,
   "metadata": {},
   "outputs": [
    {
     "data": {
      "text/plain": [
       "(482, 10, 1)"
      ]
     },
     "execution_count": 87,
     "metadata": {},
     "output_type": "execute_result"
    }
   ],
   "source": [
    "test_dataset = dataset[train_count-10:,:]\n",
    "x_test = []\n",
    "y_test = dataset[train_count:,:]\n",
    "\n",
    "for i in range(10,len(test_dataset)):\n",
    "    x_test.append(test_dataset[i-10:i,0])\n",
    "\n",
    "x_test = np.array(x_test)\n",
    "x_test = np.reshape(x_test, (x_test.shape[0],x_test.shape[1], 1))\n",
    "x_test.shape"
   ]
  },
  {
   "cell_type": "code",
   "execution_count": 88,
   "metadata": {},
   "outputs": [
    {
     "name": "stdout",
     "output_type": "stream",
     "text": [
      "16/16 [==============================] - 1s 9ms/step\n",
      "lstm shape = (482, 1)\n",
      "16/16 [==============================] - 0s 1ms/step\n",
      "cnn shape = (482, 1)\n"
     ]
    }
   ],
   "source": [
    "lstm_predicts = lstm_model.predict(x_test)\n",
    "print(f\"lstm shape = {lstm_predicts.shape}\")\n",
    "\n",
    "nn_predicts = nn_model.predict(x_test)\n",
    "print(f\"cnn shape = {lstm_predicts.shape}\")"
   ]
  },
  {
   "cell_type": "code",
   "execution_count": 89,
   "metadata": {},
   "outputs": [
    {
     "name": "stdout",
     "output_type": "stream",
     "text": [
      "dict_keys(['loss', 'mae', 'accuracy'])\n",
      "dict_keys(['loss', 'mae', 'accuracy'])\n"
     ]
    }
   ],
   "source": [
    "print(nn_history.history.keys())\n",
    "print(lstm_history.history.keys())"
   ]
  },
  {
   "cell_type": "markdown",
   "metadata": {},
   "source": [
    "### Model Validation"
   ]
  },
  {
   "cell_type": "code",
   "execution_count": 90,
   "metadata": {},
   "outputs": [
    {
     "name": "stdout",
     "output_type": "stream",
     "text": [
      "Lstm model Last ephoc loss  = 0.006139575969427824\n",
      "CNN model Last ephoc loss  = 0.009485745802521706\n"
     ]
    }
   ],
   "source": [
    "print(f\"Lstm model Last ephoc loss  = {lstm_history.history['loss'][-1]}\")\n",
    "print(f\"CNN model Last ephoc loss  = {nn_history.history['loss'][-1]}\")"
   ]
  },
  {
   "cell_type": "code",
   "execution_count": 91,
   "metadata": {},
   "outputs": [
    {
     "name": "stdout",
     "output_type": "stream",
     "text": [
      "16/16 [==============================] - 1s 9ms/step - loss: 0.0372 - mae: 0.1517 - accuracy: 0.0000e+00\n"
     ]
    }
   ],
   "source": [
    "lstm_test_loss, lstm_test_acc, _ = lstm_model.evaluate(x_test, y_test) "
   ]
  },
  {
   "cell_type": "code",
   "execution_count": 92,
   "metadata": {},
   "outputs": [
    {
     "name": "stdout",
     "output_type": "stream",
     "text": [
      "16/16 [==============================] - 0s 2ms/step - loss: 0.0547 - mae: 0.2156 - accuracy: 0.0000e+00\n"
     ]
    }
   ],
   "source": [
    "cnn_test_loss, cnn_test_acc, _ = nn_model.evaluate(x_test, y_test) "
   ]
  },
  {
   "cell_type": "code",
   "execution_count": 93,
   "metadata": {},
   "outputs": [
    {
     "data": {
      "text/html": [
       "<div>\n",
       "<style scoped>\n",
       "    .dataframe tbody tr th:only-of-type {\n",
       "        vertical-align: middle;\n",
       "    }\n",
       "\n",
       "    .dataframe tbody tr th {\n",
       "        vertical-align: top;\n",
       "    }\n",
       "\n",
       "    .dataframe thead th {\n",
       "        text-align: right;\n",
       "    }\n",
       "</style>\n",
       "<table border=\"1\" class=\"dataframe\">\n",
       "  <thead>\n",
       "    <tr style=\"text-align: right;\">\n",
       "      <th></th>\n",
       "      <th>LSTM</th>\n",
       "      <th>CNN</th>\n",
       "    </tr>\n",
       "  </thead>\n",
       "  <tbody>\n",
       "    <tr>\n",
       "      <th>acc</th>\n",
       "      <td>0.151672</td>\n",
       "      <td>0.215577</td>\n",
       "    </tr>\n",
       "    <tr>\n",
       "      <th>RSME</th>\n",
       "      <td>0.192976</td>\n",
       "      <td>0.233963</td>\n",
       "    </tr>\n",
       "    <tr>\n",
       "      <th>MSE</th>\n",
       "      <td>0.037240</td>\n",
       "      <td>0.054739</td>\n",
       "    </tr>\n",
       "  </tbody>\n",
       "</table>\n",
       "</div>"
      ],
      "text/plain": [
       "          LSTM       CNN\n",
       "acc   0.151672  0.215577\n",
       "RSME  0.192976  0.233963\n",
       "MSE   0.037240  0.054739"
      ]
     },
     "execution_count": 93,
     "metadata": {},
     "output_type": "execute_result"
    }
   ],
   "source": [
    "data = {'LSTM': [lstm_test_acc,math.sqrt(mean_squared_error(y_test, lstm_predicts)),mean_squared_error(y_test, lstm_predicts)],\n",
    "        'CNN': [cnn_test_acc, math.sqrt(mean_squared_error(y_test, nn_predicts)),mean_squared_error(y_test, nn_predicts)]}\n",
    "errors = pd.DataFrame(data, index=['acc',\n",
    "                               'RSME',\n",
    "                               'MSE'])\n",
    "errors"
   ]
  },
  {
   "cell_type": "code",
   "execution_count": 94,
   "metadata": {},
   "outputs": [
    {
     "data": {
      "text/html": [
       "<div>\n",
       "<style scoped>\n",
       "    .dataframe tbody tr th:only-of-type {\n",
       "        vertical-align: middle;\n",
       "    }\n",
       "\n",
       "    .dataframe tbody tr th {\n",
       "        vertical-align: top;\n",
       "    }\n",
       "\n",
       "    .dataframe thead th {\n",
       "        text-align: right;\n",
       "    }\n",
       "</style>\n",
       "<table border=\"1\" class=\"dataframe\">\n",
       "  <thead>\n",
       "    <tr style=\"text-align: right;\">\n",
       "      <th></th>\n",
       "      <th>Value</th>\n",
       "      <th>predictions(lstm)</th>\n",
       "      <th>predictions(nn)</th>\n",
       "    </tr>\n",
       "    <tr>\n",
       "      <th>dateissue</th>\n",
       "      <th></th>\n",
       "      <th></th>\n",
       "      <th></th>\n",
       "    </tr>\n",
       "  </thead>\n",
       "  <tbody>\n",
       "    <tr>\n",
       "      <th>001225</th>\n",
       "      <td>1345018.2</td>\n",
       "      <td>1330661.250</td>\n",
       "      <td>1250804.500</td>\n",
       "    </tr>\n",
       "    <tr>\n",
       "      <th>001228</th>\n",
       "      <td>1367250.3</td>\n",
       "      <td>1332771.500</td>\n",
       "      <td>1254730.500</td>\n",
       "    </tr>\n",
       "    <tr>\n",
       "      <th>010106</th>\n",
       "      <td>1390859.7</td>\n",
       "      <td>1337175.250</td>\n",
       "      <td>1260920.500</td>\n",
       "    </tr>\n",
       "    <tr>\n",
       "      <th>010107</th>\n",
       "      <td>1403617.9</td>\n",
       "      <td>1344670.500</td>\n",
       "      <td>1269134.375</td>\n",
       "    </tr>\n",
       "    <tr>\n",
       "      <th>010108</th>\n",
       "      <td>1418651.9</td>\n",
       "      <td>1354091.250</td>\n",
       "      <td>1277060.875</td>\n",
       "    </tr>\n",
       "    <tr>\n",
       "      <th>...</th>\n",
       "      <td>...</td>\n",
       "      <td>...</td>\n",
       "      <td>...</td>\n",
       "    </tr>\n",
       "    <tr>\n",
       "      <th>021222</th>\n",
       "      <td>2163501.0</td>\n",
       "      <td>1976914.500</td>\n",
       "      <td>1956113.500</td>\n",
       "    </tr>\n",
       "    <tr>\n",
       "      <th>021223</th>\n",
       "      <td>2150035.3</td>\n",
       "      <td>1980608.625</td>\n",
       "      <td>1958581.625</td>\n",
       "    </tr>\n",
       "    <tr>\n",
       "      <th>021226</th>\n",
       "      <td>2148494.0</td>\n",
       "      <td>1981602.375</td>\n",
       "      <td>1964048.125</td>\n",
       "    </tr>\n",
       "    <tr>\n",
       "      <th>021227</th>\n",
       "      <td>2160406.5</td>\n",
       "      <td>1981195.250</td>\n",
       "      <td>1960435.500</td>\n",
       "    </tr>\n",
       "    <tr>\n",
       "      <th>021228</th>\n",
       "      <td>2195092.3</td>\n",
       "      <td>1981077.125</td>\n",
       "      <td>1964093.000</td>\n",
       "    </tr>\n",
       "  </tbody>\n",
       "</table>\n",
       "<p>482 rows × 3 columns</p>\n",
       "</div>"
      ],
      "text/plain": [
       "               Value  predictions(lstm)  predictions(nn)\n",
       "dateissue                                               \n",
       "001225     1345018.2        1330661.250      1250804.500\n",
       "001228     1367250.3        1332771.500      1254730.500\n",
       "010106     1390859.7        1337175.250      1260920.500\n",
       "010107     1403617.9        1344670.500      1269134.375\n",
       "010108     1418651.9        1354091.250      1277060.875\n",
       "...              ...                ...              ...\n",
       "021222     2163501.0        1976914.500      1956113.500\n",
       "021223     2150035.3        1980608.625      1958581.625\n",
       "021226     2148494.0        1981602.375      1964048.125\n",
       "021227     2160406.5        1981195.250      1960435.500\n",
       "021228     2195092.3        1981077.125      1964093.000\n",
       "\n",
       "[482 rows x 3 columns]"
      ]
     },
     "execution_count": 94,
     "metadata": {},
     "output_type": "execute_result"
    }
   ],
   "source": [
    "train = df[:train_count] * df_mean\n",
    "validation = df[train_count:] * df_mean\n",
    "validation[['predictions(lstm)']] = lstm_predicts * df_mean\n",
    "validation[['predictions(nn)']] = nn_predicts * df_mean\n",
    "clear_output()\n",
    "validation"
   ]
  },
  {
   "cell_type": "code",
   "execution_count": 97,
   "metadata": {},
   "outputs": [
    {
     "name": "stderr",
     "output_type": "stream",
     "text": [
      "No artists with labels found to put in legend.  Note that artists whose label start with an underscore are ignored when legend() is called with no argument.\n"
     ]
    },
    {
     "data": {
      "image/png": "[encoded data removed]",
      "text/plain": [
       "<Figure size 1300x500 with 1 Axes>"
      ]
     },
     "metadata": {},
     "output_type": "display_data"
    }
   ],
   "source": [
    "plt.figure(figsize=(12,5))\n",
    "plt.plot(train[\"Value\"], color=color_pal[0])\n",
    "plt.plot(validation[[\"Value\"]], color =color_pal[3])\n",
    "plt.plot(validation[[\"predictions(nn)\"]], color=color_pal[1])\n",
    "plt.plot(validation[[\"predictions(lstm)\"]], color=color_pal[2])\n",
    "plt.xticks(np.arange(0, len(df), step=150))\n",
    "plt.legend()\n",
    "fig = plt.gcf()\n",
    "fig.set_size_inches(13, 5)\n",
    "plt.savefig('models-validation-(93-03)')\n",
    "plt.show()\n",
    "\n",
    "# blue = training \n",
    "# red = original validation\n",
    "# orange = predictions using CNN\n",
    "# green = predictions using LSTM"
   ]
  }
 ],
 "metadata": {
  "kernelspec": {
   "display_name": "Python 3",
   "language": "python",
   "name": "python3"
  },
  "language_info": {
   "codemirror_mode": {
    "name": "ipython",
    "version": 3
   },
   "file_extension": ".py",
   "mimetype": "text/x-python",
   "name": "python",
   "nbconvert_exporter": "python",
   "pygments_lexer": "ipython3",
   "version": "3.11.3"
  }
 },
 "nbformat": 4,
 "nbformat_minor": 2
}
