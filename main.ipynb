{
 "cells": [
  {
   "cell_type": "markdown",
   "metadata": {},
   "source": [
    "## imports "
   ]
  },
  {
   "cell_type": "code",
   "execution_count": 41,
   "metadata": {},
   "outputs": [],
   "source": [
    "import pandas as pd\n",
    "import numpy as np\n",
    "import seaborn as sns\n",
    "import math\n",
    "import matplotlib.pyplot as plt\n",
    "from sklearn.preprocessing import MinMaxScaler\n",
    "from IPython.display import clear_output\n",
    "from tensorflow import keras\n",
    "from keras.models import Sequential\n",
    "from keras import layers\n",
    "from keras.layers import Dense,LSTM,Dropout,Activation,BatchNormalization,Conv1D,MaxPooling1D,Flatten\n",
    "from sklearn.metrics import mean_squared_error\n"
   ]
  },
  {
   "cell_type": "code",
   "execution_count": 42,
   "metadata": {},
   "outputs": [],
   "source": [
    "import time\n",
    "\n",
    "start_time = time.perf_counter()"
   ]
  },
  {
   "cell_type": "markdown",
   "metadata": {},
   "source": [
    "### Load Dataset\n",
    "##### the following dataset contains Iran stock index price since **2014(1393)** to **2019(1397)**"
   ]
  },
  {
   "cell_type": "code",
   "execution_count": 43,
   "metadata": {},
   "outputs": [
    {
     "data": {
      "text/html": [
       "<div>\n",
       "<style scoped>\n",
       "    .dataframe tbody tr th:only-of-type {\n",
       "        vertical-align: middle;\n",
       "    }\n",
       "\n",
       "    .dataframe tbody tr th {\n",
       "        vertical-align: top;\n",
       "    }\n",
       "\n",
       "    .dataframe thead th {\n",
       "        text-align: right;\n",
       "    }\n",
       "</style>\n",
       "<table border=\"1\" class=\"dataframe\">\n",
       "  <thead>\n",
       "    <tr style=\"text-align: right;\">\n",
       "      <th></th>\n",
       "      <th>name</th>\n",
       "      <th>dateissue</th>\n",
       "      <th>Value</th>\n",
       "    </tr>\n",
       "  </thead>\n",
       "  <tbody>\n",
       "    <tr>\n",
       "      <th>0</th>\n",
       "      <td>????</td>\n",
       "      <td>14021228</td>\n",
       "      <td>2195092.3</td>\n",
       "    </tr>\n",
       "    <tr>\n",
       "      <th>1</th>\n",
       "      <td>????</td>\n",
       "      <td>14021227</td>\n",
       "      <td>2160406.5</td>\n",
       "    </tr>\n",
       "    <tr>\n",
       "      <th>2</th>\n",
       "      <td>????</td>\n",
       "      <td>14021226</td>\n",
       "      <td>2148494.0</td>\n",
       "    </tr>\n",
       "    <tr>\n",
       "      <th>3</th>\n",
       "      <td>????</td>\n",
       "      <td>14021223</td>\n",
       "      <td>2150035.3</td>\n",
       "    </tr>\n",
       "    <tr>\n",
       "      <th>4</th>\n",
       "      <td>????</td>\n",
       "      <td>14021222</td>\n",
       "      <td>2163501.0</td>\n",
       "    </tr>\n",
       "    <tr>\n",
       "      <th>...</th>\n",
       "      <td>...</td>\n",
       "      <td>...</td>\n",
       "      <td>...</td>\n",
       "    </tr>\n",
       "    <tr>\n",
       "      <th>2408</th>\n",
       "      <td>????</td>\n",
       "      <td>13930111</td>\n",
       "      <td>78741.3</td>\n",
       "    </tr>\n",
       "    <tr>\n",
       "      <th>2409</th>\n",
       "      <td>????</td>\n",
       "      <td>13930110</td>\n",
       "      <td>78469.2</td>\n",
       "    </tr>\n",
       "    <tr>\n",
       "      <th>2410</th>\n",
       "      <td>????</td>\n",
       "      <td>13930109</td>\n",
       "      <td>78239.7</td>\n",
       "    </tr>\n",
       "    <tr>\n",
       "      <th>2411</th>\n",
       "      <td>????</td>\n",
       "      <td>13930106</td>\n",
       "      <td>78619.4</td>\n",
       "    </tr>\n",
       "    <tr>\n",
       "      <th>2412</th>\n",
       "      <td>????</td>\n",
       "      <td>13930105</td>\n",
       "      <td>79013.5</td>\n",
       "    </tr>\n",
       "  </tbody>\n",
       "</table>\n",
       "<p>2413 rows × 3 columns</p>\n",
       "</div>"
      ],
      "text/plain": [
       "      name  dateissue      Value\n",
       "0     ????   14021228  2195092.3\n",
       "1     ????   14021227  2160406.5\n",
       "2     ????   14021226  2148494.0\n",
       "3     ????   14021223  2150035.3\n",
       "4     ????   14021222  2163501.0\n",
       "...    ...        ...        ...\n",
       "2408  ????   13930111    78741.3\n",
       "2409  ????   13930110    78469.2\n",
       "2410  ????   13930109    78239.7\n",
       "2411  ????   13930106    78619.4\n",
       "2412  ????   13930105    79013.5\n",
       "\n",
       "[2413 rows x 3 columns]"
      ]
     },
     "execution_count": 43,
     "metadata": {},
     "output_type": "execute_result"
    }
   ],
   "source": [
    "# df = pd.read_csv(r\"C:\\Users\\moham\\Documents\\Projects\\stock-price-prediction\\data\\1393-1397.csv\")\n",
    "df = pd.read_csv(r\"C:\\Users\\moham\\Documents\\Projects\\stock-price-prediction\\data\\1393--1403.csv\")\n",
    "df"
   ]
  },
  {
   "cell_type": "code",
   "execution_count": 166,
   "metadata": {},
   "outputs": [
    {
     "data": {
      "text/html": [
       "<div>\n",
       "<style scoped>\n",
       "    .dataframe tbody tr th:only-of-type {\n",
       "        vertical-align: middle;\n",
       "    }\n",
       "\n",
       "    .dataframe tbody tr th {\n",
       "        vertical-align: top;\n",
       "    }\n",
       "\n",
       "    .dataframe thead th {\n",
       "        text-align: right;\n",
       "    }\n",
       "</style>\n",
       "<table border=\"1\" class=\"dataframe\">\n",
       "  <thead>\n",
       "    <tr style=\"text-align: right;\">\n",
       "      <th></th>\n",
       "      <th>name</th>\n",
       "      <th>dateissue</th>\n",
       "      <th>Value</th>\n",
       "    </tr>\n",
       "  </thead>\n",
       "  <tbody>\n",
       "    <tr>\n",
       "      <th>2412</th>\n",
       "      <td>????</td>\n",
       "      <td>13930105</td>\n",
       "      <td>79013.5</td>\n",
       "    </tr>\n",
       "    <tr>\n",
       "      <th>2411</th>\n",
       "      <td>????</td>\n",
       "      <td>13930106</td>\n",
       "      <td>78619.4</td>\n",
       "    </tr>\n",
       "    <tr>\n",
       "      <th>2410</th>\n",
       "      <td>????</td>\n",
       "      <td>13930109</td>\n",
       "      <td>78239.7</td>\n",
       "    </tr>\n",
       "    <tr>\n",
       "      <th>2409</th>\n",
       "      <td>????</td>\n",
       "      <td>13930110</td>\n",
       "      <td>78469.2</td>\n",
       "    </tr>\n",
       "    <tr>\n",
       "      <th>2408</th>\n",
       "      <td>????</td>\n",
       "      <td>13930111</td>\n",
       "      <td>78741.3</td>\n",
       "    </tr>\n",
       "    <tr>\n",
       "      <th>...</th>\n",
       "      <td>...</td>\n",
       "      <td>...</td>\n",
       "      <td>...</td>\n",
       "    </tr>\n",
       "    <tr>\n",
       "      <th>4</th>\n",
       "      <td>????</td>\n",
       "      <td>14021222</td>\n",
       "      <td>2163501.0</td>\n",
       "    </tr>\n",
       "    <tr>\n",
       "      <th>3</th>\n",
       "      <td>????</td>\n",
       "      <td>14021223</td>\n",
       "      <td>2150035.3</td>\n",
       "    </tr>\n",
       "    <tr>\n",
       "      <th>2</th>\n",
       "      <td>????</td>\n",
       "      <td>14021226</td>\n",
       "      <td>2148494.0</td>\n",
       "    </tr>\n",
       "    <tr>\n",
       "      <th>1</th>\n",
       "      <td>????</td>\n",
       "      <td>14021227</td>\n",
       "      <td>2160406.5</td>\n",
       "    </tr>\n",
       "    <tr>\n",
       "      <th>0</th>\n",
       "      <td>????</td>\n",
       "      <td>14021228</td>\n",
       "      <td>2195092.3</td>\n",
       "    </tr>\n",
       "  </tbody>\n",
       "</table>\n",
       "<p>2413 rows × 3 columns</p>\n",
       "</div>"
      ],
      "text/plain": [
       "      name  dateissue      Value\n",
       "2412  ????   13930105    79013.5\n",
       "2411  ????   13930106    78619.4\n",
       "2410  ????   13930109    78239.7\n",
       "2409  ????   13930110    78469.2\n",
       "2408  ????   13930111    78741.3\n",
       "...    ...        ...        ...\n",
       "4     ????   14021222  2163501.0\n",
       "3     ????   14021223  2150035.3\n",
       "2     ????   14021226  2148494.0\n",
       "1     ????   14021227  2160406.5\n",
       "0     ????   14021228  2195092.3\n",
       "\n",
       "[2413 rows x 3 columns]"
      ]
     },
     "execution_count": 166,
     "metadata": {},
     "output_type": "execute_result"
    }
   ],
   "source": [
    "df = df.iloc[::-1] \n",
    "df"
   ]
  },
  {
   "cell_type": "code",
   "execution_count": 167,
   "metadata": {},
   "outputs": [],
   "source": [
    "df = df[[\"dateissue\" , \"Value\"]] # delete شاخص column"
   ]
  },
  {
   "cell_type": "code",
   "execution_count": 168,
   "metadata": {},
   "outputs": [],
   "source": [
    "color_pal = sns.color_palette()"
   ]
  },
  {
   "cell_type": "code",
   "execution_count": 169,
   "metadata": {},
   "outputs": [
    {
     "data": {
      "text/html": [
       "<div>\n",
       "<style scoped>\n",
       "    .dataframe tbody tr th:only-of-type {\n",
       "        vertical-align: middle;\n",
       "    }\n",
       "\n",
       "    .dataframe tbody tr th {\n",
       "        vertical-align: top;\n",
       "    }\n",
       "\n",
       "    .dataframe thead th {\n",
       "        text-align: right;\n",
       "    }\n",
       "</style>\n",
       "<table border=\"1\" class=\"dataframe\">\n",
       "  <thead>\n",
       "    <tr style=\"text-align: right;\">\n",
       "      <th></th>\n",
       "      <th>dateissue</th>\n",
       "      <th>Value</th>\n",
       "    </tr>\n",
       "  </thead>\n",
       "  <tbody>\n",
       "    <tr>\n",
       "      <th>2412</th>\n",
       "      <td>13930105</td>\n",
       "      <td>79013.5</td>\n",
       "    </tr>\n",
       "    <tr>\n",
       "      <th>2411</th>\n",
       "      <td>13930106</td>\n",
       "      <td>78619.4</td>\n",
       "    </tr>\n",
       "    <tr>\n",
       "      <th>2410</th>\n",
       "      <td>13930109</td>\n",
       "      <td>78239.7</td>\n",
       "    </tr>\n",
       "    <tr>\n",
       "      <th>2409</th>\n",
       "      <td>13930110</td>\n",
       "      <td>78469.2</td>\n",
       "    </tr>\n",
       "    <tr>\n",
       "      <th>2408</th>\n",
       "      <td>13930111</td>\n",
       "      <td>78741.3</td>\n",
       "    </tr>\n",
       "    <tr>\n",
       "      <th>...</th>\n",
       "      <td>...</td>\n",
       "      <td>...</td>\n",
       "    </tr>\n",
       "    <tr>\n",
       "      <th>1423</th>\n",
       "      <td>13970205</td>\n",
       "      <td>94796.1</td>\n",
       "    </tr>\n",
       "    <tr>\n",
       "      <th>1422</th>\n",
       "      <td>13970208</td>\n",
       "      <td>94284.4</td>\n",
       "    </tr>\n",
       "    <tr>\n",
       "      <th>1421</th>\n",
       "      <td>13970209</td>\n",
       "      <td>93805.5</td>\n",
       "    </tr>\n",
       "    <tr>\n",
       "      <th>1420</th>\n",
       "      <td>13970210</td>\n",
       "      <td>93586.9</td>\n",
       "    </tr>\n",
       "    <tr>\n",
       "      <th>1419</th>\n",
       "      <td>13970211</td>\n",
       "      <td>93612.1</td>\n",
       "    </tr>\n",
       "  </tbody>\n",
       "</table>\n",
       "<p>994 rows × 2 columns</p>\n",
       "</div>"
      ],
      "text/plain": [
       "      dateissue    Value\n",
       "2412   13930105  79013.5\n",
       "2411   13930106  78619.4\n",
       "2410   13930109  78239.7\n",
       "2409   13930110  78469.2\n",
       "2408   13930111  78741.3\n",
       "...         ...      ...\n",
       "1423   13970205  94796.1\n",
       "1422   13970208  94284.4\n",
       "1421   13970209  93805.5\n",
       "1420   13970210  93586.9\n",
       "1419   13970211  93612.1\n",
       "\n",
       "[994 rows x 2 columns]"
      ]
     },
     "execution_count": 169,
     "metadata": {},
     "output_type": "execute_result"
    }
   ],
   "source": [
    "df1 = df[df[\"dateissue\"] > 13970211] #barjam date\n",
    "df2 = df[df[\"dateissue\"] <= 13970211]\n",
    "df2"
   ]
  },
  {
   "cell_type": "code",
   "execution_count": 170,
   "metadata": {},
   "outputs": [
    {
     "data": {
      "image/png": "[encoded data removed]",
      "text/plain": [
       "<Figure size 1500x800 with 1 Axes>"
      ]
     },
     "metadata": {},
     "output_type": "display_data"
    }
   ],
   "source": [
    "df['dateissue'] = df['dateissue'].apply(lambda x: str(x)[-6:])\n",
    "df.plot( x=\"dateissue\", y=\"Value\", style='.', figsize=(15,8), color=color_pal[3])\n",
    "clear_output()\n",
    "plt.show()"
   ]
  },
  {
   "cell_type": "code",
   "execution_count": 171,
   "metadata": {},
   "outputs": [],
   "source": [
    "df1['dateissue'] = df1['dateissue'].apply(lambda x: str(x)[-6:])\n",
    "df2['dateissue'] = df2['dateissue'].apply(lambda x: str(x)[-6:])\n",
    "clear_output()"
   ]
  },
  {
   "cell_type": "code",
   "execution_count": 172,
   "metadata": {},
   "outputs": [
    {
     "data": {
      "image/png": "[encoded data removed]",
      "text/plain": [
       "<Figure size 1500x500 with 1 Axes>"
      ]
     },
     "metadata": {},
     "output_type": "display_data"
    }
   ],
   "source": [
    "plt.plot(df2[\"dateissue\"], df2[\"Value\"], color=color_pal[9])\n",
    "plt.plot(df1[\"dateissue\"], df1[\"Value\"], color=color_pal[3]) # after barjam (red)\n",
    "plt.xticks(np.arange(0, len(df), step=150))\n",
    "fig = plt.gcf()\n",
    "fig.set_size_inches(15, 5)\n",
    "plt.show()"
   ]
  },
  {
   "cell_type": "code",
   "execution_count": 173,
   "metadata": {},
   "outputs": [
    {
     "data": {
      "text/plain": [
       "(2413, 2)"
      ]
     },
     "execution_count": 173,
     "metadata": {},
     "output_type": "execute_result"
    }
   ],
   "source": [
    "df.shape"
   ]
  },
  {
   "cell_type": "code",
   "execution_count": 174,
   "metadata": {},
   "outputs": [
    {
     "data": {
      "text/html": [
       "<div>\n",
       "<style scoped>\n",
       "    .dataframe tbody tr th:only-of-type {\n",
       "        vertical-align: middle;\n",
       "    }\n",
       "\n",
       "    .dataframe tbody tr th {\n",
       "        vertical-align: top;\n",
       "    }\n",
       "\n",
       "    .dataframe thead th {\n",
       "        text-align: right;\n",
       "    }\n",
       "</style>\n",
       "<table border=\"1\" class=\"dataframe\">\n",
       "  <thead>\n",
       "    <tr style=\"text-align: right;\">\n",
       "      <th></th>\n",
       "      <th>Value</th>\n",
       "    </tr>\n",
       "    <tr>\n",
       "      <th>dateissue</th>\n",
       "      <th></th>\n",
       "    </tr>\n",
       "  </thead>\n",
       "  <tbody>\n",
       "    <tr>\n",
       "      <th>930105</th>\n",
       "      <td>79013.5</td>\n",
       "    </tr>\n",
       "    <tr>\n",
       "      <th>930106</th>\n",
       "      <td>78619.4</td>\n",
       "    </tr>\n",
       "    <tr>\n",
       "      <th>930109</th>\n",
       "      <td>78239.7</td>\n",
       "    </tr>\n",
       "    <tr>\n",
       "      <th>930110</th>\n",
       "      <td>78469.2</td>\n",
       "    </tr>\n",
       "    <tr>\n",
       "      <th>930111</th>\n",
       "      <td>78741.3</td>\n",
       "    </tr>\n",
       "    <tr>\n",
       "      <th>...</th>\n",
       "      <td>...</td>\n",
       "    </tr>\n",
       "    <tr>\n",
       "      <th>021222</th>\n",
       "      <td>2163501.0</td>\n",
       "    </tr>\n",
       "    <tr>\n",
       "      <th>021223</th>\n",
       "      <td>2150035.3</td>\n",
       "    </tr>\n",
       "    <tr>\n",
       "      <th>021226</th>\n",
       "      <td>2148494.0</td>\n",
       "    </tr>\n",
       "    <tr>\n",
       "      <th>021227</th>\n",
       "      <td>2160406.5</td>\n",
       "    </tr>\n",
       "    <tr>\n",
       "      <th>021228</th>\n",
       "      <td>2195092.3</td>\n",
       "    </tr>\n",
       "  </tbody>\n",
       "</table>\n",
       "<p>2413 rows × 1 columns</p>\n",
       "</div>"
      ],
      "text/plain": [
       "               Value\n",
       "dateissue           \n",
       "930105       79013.5\n",
       "930106       78619.4\n",
       "930109       78239.7\n",
       "930110       78469.2\n",
       "930111       78741.3\n",
       "...              ...\n",
       "021222     2163501.0\n",
       "021223     2150035.3\n",
       "021226     2148494.0\n",
       "021227     2160406.5\n",
       "021228     2195092.3\n",
       "\n",
       "[2413 rows x 1 columns]"
      ]
     },
     "execution_count": 174,
     "metadata": {},
     "output_type": "execute_result"
    }
   ],
   "source": [
    "df.index = df.pop(\"dateissue\")\n",
    "df"
   ]
  },
  {
   "cell_type": "markdown",
   "metadata": {},
   "source": [
    "### preprocessing"
   ]
  },
  {
   "cell_type": "code",
   "execution_count": 175,
   "metadata": {},
   "outputs": [
    {
     "data": {
      "text/html": [
       "<div>\n",
       "<style scoped>\n",
       "    .dataframe tbody tr th:only-of-type {\n",
       "        vertical-align: middle;\n",
       "    }\n",
       "\n",
       "    .dataframe tbody tr th {\n",
       "        vertical-align: top;\n",
       "    }\n",
       "\n",
       "    .dataframe thead th {\n",
       "        text-align: right;\n",
       "    }\n",
       "</style>\n",
       "<table border=\"1\" class=\"dataframe\">\n",
       "  <thead>\n",
       "    <tr style=\"text-align: right;\">\n",
       "      <th></th>\n",
       "      <th>Value</th>\n",
       "    </tr>\n",
       "    <tr>\n",
       "      <th>dateissue</th>\n",
       "      <th></th>\n",
       "    </tr>\n",
       "  </thead>\n",
       "  <tbody>\n",
       "    <tr>\n",
       "      <th>930105</th>\n",
       "      <td>0.112551</td>\n",
       "    </tr>\n",
       "    <tr>\n",
       "      <th>930106</th>\n",
       "      <td>0.111990</td>\n",
       "    </tr>\n",
       "    <tr>\n",
       "      <th>930109</th>\n",
       "      <td>0.111449</td>\n",
       "    </tr>\n",
       "    <tr>\n",
       "      <th>930110</th>\n",
       "      <td>0.111776</td>\n",
       "    </tr>\n",
       "    <tr>\n",
       "      <th>930111</th>\n",
       "      <td>0.112163</td>\n",
       "    </tr>\n",
       "    <tr>\n",
       "      <th>...</th>\n",
       "      <td>...</td>\n",
       "    </tr>\n",
       "    <tr>\n",
       "      <th>021222</th>\n",
       "      <td>3.081804</td>\n",
       "    </tr>\n",
       "    <tr>\n",
       "      <th>021223</th>\n",
       "      <td>3.062623</td>\n",
       "    </tr>\n",
       "    <tr>\n",
       "      <th>021226</th>\n",
       "      <td>3.060427</td>\n",
       "    </tr>\n",
       "    <tr>\n",
       "      <th>021227</th>\n",
       "      <td>3.077396</td>\n",
       "    </tr>\n",
       "    <tr>\n",
       "      <th>021228</th>\n",
       "      <td>3.126804</td>\n",
       "    </tr>\n",
       "  </tbody>\n",
       "</table>\n",
       "<p>2413 rows × 1 columns</p>\n",
       "</div>"
      ],
      "text/plain": [
       "              Value\n",
       "dateissue          \n",
       "930105     0.112551\n",
       "930106     0.111990\n",
       "930109     0.111449\n",
       "930110     0.111776\n",
       "930111     0.112163\n",
       "...             ...\n",
       "021222     3.081804\n",
       "021223     3.062623\n",
       "021226     3.060427\n",
       "021227     3.077396\n",
       "021228     3.126804\n",
       "\n",
       "[2413 rows x 1 columns]"
      ]
     },
     "execution_count": 175,
     "metadata": {},
     "output_type": "execute_result"
    }
   ],
   "source": [
    "# scaler = MinMaxScaler(feature_range=(0,1))\n",
    "# dataset = scaler.fit_transform(dataset)\n",
    "# dataset\n",
    "\n",
    "# test_dataset = [i for i in dataset if i not in train_dataset]\n",
    "# test_dataset\n",
    "\n",
    "# df['Value'] = df['Value'] / 100000\n",
    "\n",
    "df_mean = df['Value'].mean()\n",
    "df['Value'] = df['Value'] / df_mean\n",
    "clear_output()\n",
    "df"
   ]
  },
  {
   "cell_type": "code",
   "execution_count": 176,
   "metadata": {},
   "outputs": [],
   "source": [
    "dataset = df.values"
   ]
  },
  {
   "cell_type": "markdown",
   "metadata": {},
   "source": [
    "### split train and test datasets  "
   ]
  },
  {
   "cell_type": "code",
   "execution_count": 177,
   "metadata": {},
   "outputs": [
    {
     "name": "stdout",
     "output_type": "stream",
     "text": [
      "1931\n",
      "482\n",
      "(2413, 1)\n"
     ]
    }
   ],
   "source": [
    "train_count = math.ceil(len(dataset) * 0.80) # find 80% of our dataset\n",
    "print(train_count)\n",
    "print(len(dataset)-train_count)\n",
    "print(dataset.shape)"
   ]
  },
  {
   "cell_type": "code",
   "execution_count": 178,
   "metadata": {},
   "outputs": [
    {
     "data": {
      "text/plain": [
       "array([[0.11255096],\n",
       "       [0.11198958],\n",
       "       [0.11144872],\n",
       "       ...,\n",
       "       [1.90217997],\n",
       "       [1.90132601],\n",
       "       [1.90481065]])"
      ]
     },
     "execution_count": 178,
     "metadata": {},
     "output_type": "execute_result"
    }
   ],
   "source": [
    "train_dataset = dataset[0:train_count]\n",
    "train_dataset = np.array(train_dataset)\n",
    "train_dataset"
   ]
  },
  {
   "cell_type": "markdown",
   "metadata": {},
   "source": [
    "##### *we create a sequence(to make an iteratin on the dataset) for every data in the dataframe to use it for lstm and rnn  models in the future.*"
   ]
  },
  {
   "cell_type": "code",
   "execution_count": 179,
   "metadata": {},
   "outputs": [
    {
     "name": "stdout",
     "output_type": "stream",
     "text": [
      "[array([0.11255096, 0.11198958, 0.11144872, 0.11177563, 0.11216323,\n",
      "       0.11188745, 0.11058693, 0.1102791 , 0.11084732, 0.11028665])]\n",
      "[0.10897316436782095]\n"
     ]
    }
   ],
   "source": [
    "x_train = []\n",
    "y_train = []\n",
    "\n",
    "for i in range(10,train_count):\n",
    "    x_train.append(train_dataset[i-10:i, 0])\n",
    "    y_train.append(train_dataset[i,0])\n",
    "    if i<=10 : #we can get the first round of the train dataset which we created\n",
    "        print(x_train)\n",
    "        print(y_train)"
   ]
  },
  {
   "cell_type": "code",
   "execution_count": 180,
   "metadata": {},
   "outputs": [
    {
     "data": {
      "text/plain": [
       "(1921, 10)"
      ]
     },
     "execution_count": 180,
     "metadata": {},
     "output_type": "execute_result"
    }
   ],
   "source": [
    "x_train, y_train = np.array(x_train), np.array(y_train)\n",
    "x_train.shape"
   ]
  },
  {
   "cell_type": "code",
   "execution_count": 181,
   "metadata": {},
   "outputs": [
    {
     "data": {
      "text/plain": [
       "(1921, 10, 1)"
      ]
     },
     "execution_count": 181,
     "metadata": {},
     "output_type": "execute_result"
    }
   ],
   "source": [
    "x_train = np.reshape(x_train, (x_train.shape[0], x_train.shape[1], 1))\n",
    "x_train.shape"
   ]
  },
  {
   "cell_type": "markdown",
   "metadata": {},
   "source": [
    "### create models: \n",
    "1. LSTM\n",
    "2. CNN"
   ]
  },
  {
   "cell_type": "code",
   "execution_count": 182,
   "metadata": {},
   "outputs": [],
   "source": [
    "lstm_model = Sequential()\n",
    "nn_model = Sequential()"
   ]
  },
  {
   "cell_type": "code",
   "execution_count": 183,
   "metadata": {},
   "outputs": [],
   "source": [
    "# model = Sequential([\n",
    "#     layers.LSTM(50, return_sequences=True, input_shape=(10,1)),\n",
    "#     layers.LSTM(50, return_sequences=False),\n",
    "#     layers.Dense(32, activation='relu'),\n",
    "#     layers.Dropout(0.3),\n",
    "#     layers.BatchNormalization(),\n",
    "#     layers.Dense(16, activation='relu'),\n",
    "#     layers.Dropout(0.3),\n",
    "#     layers.BatchNormalization(),\n",
    "#     layers.Dense(1, activation='relu'),\n",
    "# ])\n",
    "\n",
    "lstm_model.add(LSTM(50, input_shape = (10,1), return_sequences = True))\n",
    "lstm_model.add(Dropout(0.2))\n",
    "lstm_model.add(LSTM(256))\n",
    "lstm_model.add(Dropout(0.2))\n",
    "lstm_model.add(Dense(1))\n",
    "# lstm_model.add(Activation(\"linear\"))\n",
    "\n",
    "# model.add(LSTM(50, return_sequences=True, input_shape=(10,1)))\n",
    "# model.add(LSTM(50, return_sequences=False))\n",
    "# model.add(Dense(64))\n",
    "# model.add(Dense(32))\n",
    "# model.add(Dense(8))\n",
    "# model.add(Dense(1))"
   ]
  },
  {
   "cell_type": "code",
   "execution_count": 184,
   "metadata": {},
   "outputs": [],
   "source": [
    "nn_model.add(Dense(128,input_shape=(10,1)))\n",
    "nn_model.add(Conv1D(filters = 112, kernel_size= 1,padding='valid', activation='relu'))\n",
    "nn_model.add(MaxPooling1D(pool_size=2, padding='valid'))\n",
    "nn_model.add(Conv1D(filters = 64,kernel_size = 1,padding='valid', activation='relu'))\n",
    "nn_model.add(MaxPooling1D(pool_size=1, padding='valid'))\n",
    "nn_model.add(Dropout(0.2))\n",
    "nn_model.add(Flatten())\n",
    "nn_model.add(Dense(100, activation=\"linear\"))\n",
    "nn_model.add(Dropout(0.2))\n",
    "nn_model.add(Dense(1))"
   ]
  },
  {
   "cell_type": "code",
   "execution_count": 185,
   "metadata": {},
   "outputs": [
    {
     "name": "stdout",
     "output_type": "stream",
     "text": [
      "You must install pydot (`pip install pydot`) and install graphviz (see instructions at https://graphviz.gitlab.io/download/) for plot_model to work.\n"
     ]
    }
   ],
   "source": [
    "keras.utils.plot_model(lstm_model) "
   ]
  },
  {
   "cell_type": "code",
   "execution_count": 186,
   "metadata": {},
   "outputs": [],
   "source": [
    "lstm_model.compile(loss=\"mse\", optimizer=\"adam\", metrics=['mae', 'accuracy'])\n",
    "nn_model.compile(loss=\"mse\", optimizer=\"adam\", metrics=['mae', 'accuracy'])"
   ]
  },
  {
   "cell_type": "code",
   "execution_count": 187,
   "metadata": {},
   "outputs": [
    {
     "name": "stdout",
     "output_type": "stream",
     "text": [
      "Model: \"sequential_8\"\n",
      "_________________________________________________________________\n",
      " Layer (type)                Output Shape              Param #   \n",
      "=================================================================\n",
      " lstm_8 (LSTM)               (None, 10, 50)            10400     \n",
      "                                                                 \n",
      " dropout_16 (Dropout)        (None, 10, 50)            0         \n",
      "                                                                 \n",
      " lstm_9 (LSTM)               (None, 256)               314368    \n",
      "                                                                 \n",
      " dropout_17 (Dropout)        (None, 256)               0         \n",
      "                                                                 \n",
      " dense_16 (Dense)            (None, 1)                 257       \n",
      "                                                                 \n",
      "=================================================================\n",
      "Total params: 325,025\n",
      "Trainable params: 325,025\n",
      "Non-trainable params: 0\n",
      "_________________________________________________________________\n"
     ]
    }
   ],
   "source": [
    "lstm_model.summary()"
   ]
  },
  {
   "cell_type": "code",
   "execution_count": 188,
   "metadata": {},
   "outputs": [
    {
     "name": "stdout",
     "output_type": "stream",
     "text": [
      "Model: \"sequential_9\"\n",
      "_________________________________________________________________\n",
      " Layer (type)                Output Shape              Param #   \n",
      "=================================================================\n",
      " dense_17 (Dense)            (None, 10, 128)           256       \n",
      "                                                                 \n",
      " conv1d_8 (Conv1D)           (None, 10, 112)           14448     \n",
      "                                                                 \n",
      " max_pooling1d_8 (MaxPooling  (None, 5, 112)           0         \n",
      " 1D)                                                             \n",
      "                                                                 \n",
      " conv1d_9 (Conv1D)           (None, 5, 64)             7232      \n",
      "                                                                 \n",
      " max_pooling1d_9 (MaxPooling  (None, 5, 64)            0         \n",
      " 1D)                                                             \n",
      "                                                                 \n",
      " dropout_18 (Dropout)        (None, 5, 64)             0         \n",
      "                                                                 \n",
      " flatten_4 (Flatten)         (None, 320)               0         \n",
      "                                                                 \n",
      " dense_18 (Dense)            (None, 100)               32100     \n",
      "                                                                 \n",
      " dropout_19 (Dropout)        (None, 100)               0         \n",
      "                                                                 \n",
      " dense_19 (Dense)            (None, 1)                 101       \n",
      "                                                                 \n",
      "=================================================================\n",
      "Total params: 54,137\n",
      "Trainable params: 54,137\n",
      "Non-trainable params: 0\n",
      "_________________________________________________________________\n"
     ]
    }
   ],
   "source": [
    "nn_model.summary()"
   ]
  },
  {
   "cell_type": "markdown",
   "metadata": {},
   "source": [
    "### fit models"
   ]
  },
  {
   "cell_type": "code",
   "execution_count": 189,
   "metadata": {},
   "outputs": [
    {
     "name": "stdout",
     "output_type": "stream",
     "text": [
      "Epoch 1/10\n",
      "193/193 [==============================] - 7s 14ms/step - loss: 0.0282 - mae: 0.0722 - accuracy: 0.0000e+00\n",
      "Epoch 2/10\n",
      "193/193 [==============================] - 3s 13ms/step - loss: 0.0105 - mae: 0.0542 - accuracy: 0.0000e+00\n",
      "Epoch 3/10\n",
      "193/193 [==============================] - 2s 13ms/step - loss: 0.0084 - mae: 0.0461 - accuracy: 0.0000e+00\n",
      "Epoch 4/10\n",
      "193/193 [==============================] - 3s 13ms/step - loss: 0.0070 - mae: 0.0430 - accuracy: 0.0000e+00\n",
      "Epoch 5/10\n",
      "193/193 [==============================] - 2s 13ms/step - loss: 0.0070 - mae: 0.0430 - accuracy: 0.0000e+00\n",
      "Epoch 6/10\n",
      "193/193 [==============================] - 3s 13ms/step - loss: 0.0069 - mae: 0.0421 - accuracy: 0.0000e+00\n",
      "Epoch 7/10\n",
      "193/193 [==============================] - 2s 13ms/step - loss: 0.0065 - mae: 0.0402 - accuracy: 0.0000e+00\n",
      "Epoch 8/10\n",
      "193/193 [==============================] - 2s 13ms/step - loss: 0.0066 - mae: 0.0414 - accuracy: 0.0000e+00\n",
      "Epoch 9/10\n",
      "193/193 [==============================] - 3s 13ms/step - loss: 0.0059 - mae: 0.0388 - accuracy: 0.0000e+00\n",
      "Epoch 10/10\n",
      "193/193 [==============================] - 2s 13ms/step - loss: 0.0069 - mae: 0.0432 - accuracy: 0.0000e+00\n"
     ]
    }
   ],
   "source": [
    "lstm_history = lstm_model.fit(x_train, y_train, batch_size=10, epochs=10)"
   ]
  },
  {
   "cell_type": "code",
   "execution_count": 190,
   "metadata": {},
   "outputs": [
    {
     "name": "stdout",
     "output_type": "stream",
     "text": [
      "Epoch 1/10\n",
      "193/193 [==============================] - 2s 2ms/step - loss: 0.0379 - mae: 0.0879 - accuracy: 0.0000e+00\n",
      "Epoch 2/10\n",
      "193/193 [==============================] - 0s 2ms/step - loss: 0.0160 - mae: 0.0644 - accuracy: 0.0000e+00\n",
      "Epoch 3/10\n",
      "193/193 [==============================] - 1s 3ms/step - loss: 0.0137 - mae: 0.0612 - accuracy: 0.0000e+00\n",
      "Epoch 4/10\n",
      "193/193 [==============================] - 0s 3ms/step - loss: 0.0139 - mae: 0.0629 - accuracy: 0.0000e+00\n",
      "Epoch 5/10\n",
      "193/193 [==============================] - 0s 2ms/step - loss: 0.0129 - mae: 0.0625 - accuracy: 0.0000e+00\n",
      "Epoch 6/10\n",
      "193/193 [==============================] - 0s 2ms/step - loss: 0.0104 - mae: 0.0558 - accuracy: 0.0000e+00\n",
      "Epoch 7/10\n",
      "193/193 [==============================] - 0s 2ms/step - loss: 0.0104 - mae: 0.0582 - accuracy: 0.0000e+00\n",
      "Epoch 8/10\n",
      "193/193 [==============================] - 0s 2ms/step - loss: 0.0121 - mae: 0.0610 - accuracy: 0.0000e+00\n",
      "Epoch 9/10\n",
      "193/193 [==============================] - 1s 3ms/step - loss: 0.0128 - mae: 0.0629 - accuracy: 0.0000e+00\n",
      "Epoch 10/10\n",
      "193/193 [==============================] - 0s 2ms/step - loss: 0.0109 - mae: 0.0596 - accuracy: 0.0000e+00\n"
     ]
    }
   ],
   "source": [
    "nn_history = nn_model.fit(x_train, y_train, batch_size=10, epochs=10)"
   ]
  },
  {
   "cell_type": "markdown",
   "metadata": {},
   "source": [
    "### create test array"
   ]
  },
  {
   "cell_type": "code",
   "execution_count": 191,
   "metadata": {},
   "outputs": [
    {
     "data": {
      "text/plain": [
       "(482, 10, 1)"
      ]
     },
     "execution_count": 191,
     "metadata": {},
     "output_type": "execute_result"
    }
   ],
   "source": [
    "test_dataset = dataset[train_count-10:,:]\n",
    "x_test = []\n",
    "y_test = dataset[train_count:,:]\n",
    "\n",
    "for i in range(10,len(test_dataset)):\n",
    "    x_test.append(test_dataset[i-10:i,0])\n",
    "\n",
    "x_test = np.array(x_test)\n",
    "x_test = np.reshape(x_test, (x_test.shape[0],x_test.shape[1], 1))\n",
    "x_test.shape"
   ]
  },
  {
   "cell_type": "code",
   "execution_count": 192,
   "metadata": {},
   "outputs": [
    {
     "name": "stdout",
     "output_type": "stream",
     "text": [
      "16/16 [==============================] - 1s 8ms/step\n",
      "lstm shape = (482, 1)\n",
      "16/16 [==============================] - 0s 1ms/step\n",
      "cnn shape = (482, 1)\n"
     ]
    }
   ],
   "source": [
    "lstm_predicts = lstm_model.predict(x_test)\n",
    "print(f\"lstm shape = {lstm_predicts.shape}\")\n",
    "\n",
    "nn_predicts = nn_model.predict(x_test)\n",
    "print(f\"cnn shape = {lstm_predicts.shape}\")"
   ]
  },
  {
   "cell_type": "code",
   "execution_count": 193,
   "metadata": {},
   "outputs": [
    {
     "name": "stdout",
     "output_type": "stream",
     "text": [
      "dict_keys(['loss', 'mae', 'accuracy'])\n",
      "dict_keys(['loss', 'mae', 'accuracy'])\n"
     ]
    }
   ],
   "source": [
    "print(nn_history.history.keys())\n",
    "print(lstm_history.history.keys())"
   ]
  },
  {
   "cell_type": "code",
   "execution_count": 194,
   "metadata": {},
   "outputs": [],
   "source": [
    "h1 = lstm_history.history\n",
    "lstm_loss = h1[\"loss\"]\n",
    "h1 = nn_history.history\n",
    "cnn_loss = h1[\"loss\"]\n",
    "epochs = [i for i in range(1,len(h1[\"loss\"]) + 1)]"
   ]
  },
  {
   "cell_type": "code",
   "execution_count": 195,
   "metadata": {},
   "outputs": [
    {
     "data": {
      "text/plain": [
       "<matplotlib.legend.Legend at 0x1cce13cfb10>"
      ]
     },
     "execution_count": 195,
     "metadata": {},
     "output_type": "execute_result"
    },
    {
     "data": {
      "image/png": "[encoded data removed]",
      "text/plain": [
       "<Figure size 1500x500 with 2 Axes>"
      ]
     },
     "metadata": {},
     "output_type": "display_data"
    }
   ],
   "source": [
    "fig, (ax1, ax2) = plt.subplots(1, 2)\n",
    "fig.suptitle('LSTM and CNN loss in every epoch')\n",
    "fig.set_figheight(5)\n",
    "fig.set_figwidth(15)\n",
    "ax1.plot(epochs, lstm_loss, label = \"LSTM loss\")\n",
    "ax1.set(xlabel=\"Ephocs\", ylabel=\"Loss\")\n",
    "ax1.legend()\n",
    "\n",
    "ax2.plot(epochs, cnn_loss, label= \"CNN loss\")\n",
    "ax2.set(xlabel=\"Ephocs\", ylabel=\"Loss\")\n",
    "ax2.legend()\n"
   ]
  },
  {
   "cell_type": "markdown",
   "metadata": {},
   "source": [
    "### Model Validation"
   ]
  },
  {
   "cell_type": "code",
   "execution_count": 196,
   "metadata": {},
   "outputs": [
    {
     "name": "stdout",
     "output_type": "stream",
     "text": [
      "Lstm model Last ephoc loss  = 0.006949559319764376\n",
      "CNN model Last ephoc loss  = 0.010928303003311157\n"
     ]
    }
   ],
   "source": [
    "print(f\"Lstm model Last epoch loss  = {lstm_history.history['loss'][-1]}\")\n",
    "print(f\"CNN model Last epoch loss  = {nn_history.history['loss'][-1]}\")"
   ]
  },
  {
   "cell_type": "code",
   "execution_count": 197,
   "metadata": {},
   "outputs": [
    {
     "name": "stdout",
     "output_type": "stream",
     "text": [
      "16/16 [==============================] - 1s 9ms/step - loss: 0.0619 - mae: 0.1995 - accuracy: 0.0000e+00\n"
     ]
    }
   ],
   "source": [
    "lstm_test_loss, lstm_test_acc, _ = lstm_model.evaluate(x_test, y_test) "
   ]
  },
  {
   "cell_type": "code",
   "execution_count": 198,
   "metadata": {},
   "outputs": [
    {
     "name": "stdout",
     "output_type": "stream",
     "text": [
      "16/16 [==============================] - 1s 2ms/step - loss: 0.1094 - mae: 0.3115 - accuracy: 0.0000e+00\n"
     ]
    }
   ],
   "source": [
    "cnn_test_loss, cnn_test_acc, _ = nn_model.evaluate(x_test, y_test) "
   ]
  },
  {
   "cell_type": "code",
   "execution_count": 199,
   "metadata": {},
   "outputs": [
    {
     "data": {
      "text/html": [
       "<div>\n",
       "<style scoped>\n",
       "    .dataframe tbody tr th:only-of-type {\n",
       "        vertical-align: middle;\n",
       "    }\n",
       "\n",
       "    .dataframe tbody tr th {\n",
       "        vertical-align: top;\n",
       "    }\n",
       "\n",
       "    .dataframe thead th {\n",
       "        text-align: right;\n",
       "    }\n",
       "</style>\n",
       "<table border=\"1\" class=\"dataframe\">\n",
       "  <thead>\n",
       "    <tr style=\"text-align: right;\">\n",
       "      <th></th>\n",
       "      <th>LSTM</th>\n",
       "      <th>CNN</th>\n",
       "    </tr>\n",
       "  </thead>\n",
       "  <tbody>\n",
       "    <tr>\n",
       "      <th>acc</th>\n",
       "      <td>0.199477</td>\n",
       "      <td>0.311544</td>\n",
       "    </tr>\n",
       "    <tr>\n",
       "      <th>RSME</th>\n",
       "      <td>0.248795</td>\n",
       "      <td>0.330780</td>\n",
       "    </tr>\n",
       "    <tr>\n",
       "      <th>MSE</th>\n",
       "      <td>0.061899</td>\n",
       "      <td>0.109416</td>\n",
       "    </tr>\n",
       "  </tbody>\n",
       "</table>\n",
       "</div>"
      ],
      "text/plain": [
       "          LSTM       CNN\n",
       "acc   0.199477  0.311544\n",
       "RSME  0.248795  0.330780\n",
       "MSE   0.061899  0.109416"
      ]
     },
     "execution_count": 199,
     "metadata": {},
     "output_type": "execute_result"
    }
   ],
   "source": [
    "data = {'LSTM': [lstm_test_acc,math.sqrt(mean_squared_error(y_test, lstm_predicts)),mean_squared_error(y_test, lstm_predicts)],\n",
    "        'CNN': [cnn_test_acc, math.sqrt(mean_squared_error(y_test, nn_predicts)),mean_squared_error(y_test, nn_predicts)]}\n",
    "errors = pd.DataFrame(data, index=['acc',\n",
    "                               'RSME',\n",
    "                               'MSE'])\n",
    "errors"
   ]
  },
  {
   "cell_type": "code",
   "execution_count": 200,
   "metadata": {},
   "outputs": [
    {
     "data": {
      "text/html": [
       "<div>\n",
       "<style scoped>\n",
       "    .dataframe tbody tr th:only-of-type {\n",
       "        vertical-align: middle;\n",
       "    }\n",
       "\n",
       "    .dataframe tbody tr th {\n",
       "        vertical-align: top;\n",
       "    }\n",
       "\n",
       "    .dataframe thead th {\n",
       "        text-align: right;\n",
       "    }\n",
       "</style>\n",
       "<table border=\"1\" class=\"dataframe\">\n",
       "  <thead>\n",
       "    <tr style=\"text-align: right;\">\n",
       "      <th></th>\n",
       "      <th>Value</th>\n",
       "      <th>predictions(lstm)</th>\n",
       "      <th>predictions(nn)</th>\n",
       "    </tr>\n",
       "    <tr>\n",
       "      <th>dateissue</th>\n",
       "      <th></th>\n",
       "      <th></th>\n",
       "      <th></th>\n",
       "    </tr>\n",
       "  </thead>\n",
       "  <tbody>\n",
       "    <tr>\n",
       "      <th>001225</th>\n",
       "      <td>1345018.2</td>\n",
       "      <td>1327884.375</td>\n",
       "      <td>1208186.500</td>\n",
       "    </tr>\n",
       "    <tr>\n",
       "      <th>001228</th>\n",
       "      <td>1367250.3</td>\n",
       "      <td>1329965.875</td>\n",
       "      <td>1211924.500</td>\n",
       "    </tr>\n",
       "    <tr>\n",
       "      <th>010106</th>\n",
       "      <td>1390859.7</td>\n",
       "      <td>1334357.250</td>\n",
       "      <td>1217538.375</td>\n",
       "    </tr>\n",
       "    <tr>\n",
       "      <th>010107</th>\n",
       "      <td>1403617.9</td>\n",
       "      <td>1341612.125</td>\n",
       "      <td>1224423.375</td>\n",
       "    </tr>\n",
       "    <tr>\n",
       "      <th>010108</th>\n",
       "      <td>1418651.9</td>\n",
       "      <td>1350460.375</td>\n",
       "      <td>1230870.750</td>\n",
       "    </tr>\n",
       "    <tr>\n",
       "      <th>...</th>\n",
       "      <td>...</td>\n",
       "      <td>...</td>\n",
       "      <td>...</td>\n",
       "    </tr>\n",
       "    <tr>\n",
       "      <th>021222</th>\n",
       "      <td>2163501.0</td>\n",
       "      <td>1919730.750</td>\n",
       "      <td>1869578.500</td>\n",
       "    </tr>\n",
       "    <tr>\n",
       "      <th>021223</th>\n",
       "      <td>2150035.3</td>\n",
       "      <td>1922576.375</td>\n",
       "      <td>1872245.875</td>\n",
       "    </tr>\n",
       "    <tr>\n",
       "      <th>021226</th>\n",
       "      <td>2148494.0</td>\n",
       "      <td>1922740.500</td>\n",
       "      <td>1879092.000</td>\n",
       "    </tr>\n",
       "    <tr>\n",
       "      <th>021227</th>\n",
       "      <td>2160406.5</td>\n",
       "      <td>1922034.375</td>\n",
       "      <td>1876134.750</td>\n",
       "    </tr>\n",
       "    <tr>\n",
       "      <th>021228</th>\n",
       "      <td>2195092.3</td>\n",
       "      <td>1922122.250</td>\n",
       "      <td>1879330.875</td>\n",
       "    </tr>\n",
       "  </tbody>\n",
       "</table>\n",
       "<p>482 rows × 3 columns</p>\n",
       "</div>"
      ],
      "text/plain": [
       "               Value  predictions(lstm)  predictions(nn)\n",
       "dateissue                                               \n",
       "001225     1345018.2        1327884.375      1208186.500\n",
       "001228     1367250.3        1329965.875      1211924.500\n",
       "010106     1390859.7        1334357.250      1217538.375\n",
       "010107     1403617.9        1341612.125      1224423.375\n",
       "010108     1418651.9        1350460.375      1230870.750\n",
       "...              ...                ...              ...\n",
       "021222     2163501.0        1919730.750      1869578.500\n",
       "021223     2150035.3        1922576.375      1872245.875\n",
       "021226     2148494.0        1922740.500      1879092.000\n",
       "021227     2160406.5        1922034.375      1876134.750\n",
       "021228     2195092.3        1922122.250      1879330.875\n",
       "\n",
       "[482 rows x 3 columns]"
      ]
     },
     "execution_count": 200,
     "metadata": {},
     "output_type": "execute_result"
    }
   ],
   "source": [
    "train = df[:train_count] * df_mean\n",
    "validation = df[train_count:] * df_mean\n",
    "validation[['predictions(lstm)']] = lstm_predicts * df_mean\n",
    "validation[['predictions(nn)']] = nn_predicts * df_mean\n",
    "clear_output()\n",
    "validation"
   ]
  },
  {
   "cell_type": "code",
   "execution_count": 201,
   "metadata": {},
   "outputs": [
    {
     "data": {
      "image/png": "[encoded data removed]",
      "text/plain": [
       "<Figure size 1300x500 with 1 Axes>"
      ]
     },
     "metadata": {},
     "output_type": "display_data"
    }
   ],
   "source": [
    "plt.figure(figsize=(12,5))\n",
    "plt.plot(train[\"Value\"], color=color_pal[0])\n",
    "plt.plot(validation[[\"Value\"]], color =color_pal[3])\n",
    "plt.plot(validation[[\"predictions(nn)\"]], color=color_pal[1])\n",
    "plt.plot(validation[[\"predictions(lstm)\"]], color=color_pal[2])\n",
    "plt.xticks(np.arange(0, len(df), step=150))\n",
    "plt.title(\"Stock Price Train and Test\")\n",
    "plt.xlabel(\"Date\")\n",
    "plt.ylabel(\"Value (price)\")\n",
    "plt.legend(['Train','validation', 'CNN predictions', 'LSTM predictions'], loc='upper left')\n",
    "fig = plt.gcf()\n",
    "fig.set_size_inches(13, 5)\n",
    "plt.grid()\n",
    "plt.savefig('models-validation-(93-03)')\n",
    "plt.show()"
   ]
  },
  {
   "cell_type": "code",
   "execution_count": 202,
   "metadata": {},
   "outputs": [
    {
     "data": {
      "text/plain": [
       "'42.'"
      ]
     },
     "execution_count": 202,
     "metadata": {},
     "output_type": "execute_result"
    }
   ],
   "source": [
    "end_time = time.perf_counter()\n",
    "run_time = end_time - start_time\n",
    "print(f'Run time (s) : {str(run_time)[0:3]}') #calculate run time"
   ]
  },
  {
   "cell_type": "markdown",
   "metadata": {},
   "source": [
    "## OK\n",
    "now let's add some more parameteres and see if the result is getting better or not\n",
    "\n",
    "\n",
    "we know that a lot of stocks can impact the main Stock Price, so..."
   ]
  },
  {
   "cell_type": "code",
   "execution_count": 59,
   "metadata": {},
   "outputs": [],
   "source": [
    "import pandas as pd\n",
    "original_df = pd.read_csv(r\"C:\\Users\\moham\\Documents\\Projects\\stock-price-prediction\\data\\1393--1403.csv\")\n",
    "df01 = pd.read_csv(r\"C:\\Users\\moham\\Documents\\Projects\\stock-price-prediction\\data\\30-bcoms.csv\")\n",
    "df02 = pd.read_csv(r\"C:\\Users\\moham\\Documents\\Projects\\stock-price-prediction\\data\\bazar-aval.csv\")\n",
    "df03 = pd.read_csv(r\"C:\\Users\\moham\\Documents\\Projects\\stock-price-prediction\\data\\car industry.csv\")\n",
    "df04 = pd.read_csv(r\"C:\\Users\\moham\\Documents\\Projects\\stock-price-prediction\\data\\fara-boors.csv\")\n",
    "df05 = pd.read_csv(r\"C:\\Users\\moham\\Documents\\Projects\\stock-price-prediction\\data\\ham-vazn-sh.csv\")\n",
    "df06 = pd.read_csv(r\"C:\\Users\\moham\\Documents\\Projects\\stock-price-prediction\\data\\ham-vazn.csv\")\n",
    "df07 = pd.read_csv(r\"C:\\Users\\moham\\Documents\\Projects\\stock-price-prediction\\data\\oil.csv\")\n",
    "df08 = pd.read_csv(r\"C:\\Users\\moham\\Documents\\Projects\\stock-price-prediction\\data\\total-fara-boors.csv\")"
   ]
  },
  {
   "cell_type": "code",
   "execution_count": 60,
   "metadata": {},
   "outputs": [
    {
     "name": "stdout",
     "output_type": "stream",
     "text": [
      "True\n",
      "(2413, 3)\n",
      "(2411, 3)\n",
      "(2411, 3)\n"
     ]
    }
   ],
   "source": [
    "print(original_df.shape == df01.shape == df02.shape == df03.shape == df05.shape == df06.shape == df07.shape)\n",
    "print(df01.shape)\n",
    "print(df04.shape)\n",
    "print(df08.shape)"
   ]
  },
  {
   "cell_type": "code",
   "execution_count": 61,
   "metadata": {},
   "outputs": [
    {
     "name": "stdout",
     "output_type": "stream",
     "text": [
      "14021219\n",
      "14010107\n"
     ]
    }
   ],
   "source": [
    "list1 = [x for x in df01.iloc[:,1]]\n",
    "list2 = [x for x in df08.iloc[:,1]]\n",
    "\n",
    "for i in list1:\n",
    "    if i not in list2:\n",
    "        print(i)\n"
   ]
  },
  {
   "cell_type": "code",
   "execution_count": 62,
   "metadata": {},
   "outputs": [
    {
     "data": {
      "text/plain": [
       "(2411, 3)"
      ]
     },
     "execution_count": 62,
     "metadata": {},
     "output_type": "execute_result"
    }
   ],
   "source": [
    "original_df = original_df[~ original_df.dateissue.isin([14021219,14010107])] \n",
    "df01 = df01[~ df01.dateissue.isin([14021219,14010107])] \n",
    "df02 = df02[~ df02.dateissue.isin([14021219,14010107])] \n",
    "df03 = df03[~ df03.dateissue.isin([14021219,14010107])] \n",
    "df05 = df05[~ df05.dateissue.isin([14021219,14010107])] \n",
    "df06 = df06[~ df06.dateissue.isin([14021219,14010107])] \n",
    "df07 = df07[~ df07.dateissue.isin([14021219,14010107])] \n",
    "\n",
    "df01.shape"
   ]
  },
  {
   "cell_type": "code",
   "execution_count": 79,
   "metadata": {},
   "outputs": [
    {
     "data": {
      "text/html": [
       "<div>\n",
       "<style scoped>\n",
       "    .dataframe tbody tr th:only-of-type {\n",
       "        vertical-align: middle;\n",
       "    }\n",
       "\n",
       "    .dataframe tbody tr th {\n",
       "        vertical-align: top;\n",
       "    }\n",
       "\n",
       "    .dataframe thead th {\n",
       "        text-align: right;\n",
       "    }\n",
       "</style>\n",
       "<table border=\"1\" class=\"dataframe\">\n",
       "  <thead>\n",
       "    <tr style=\"text-align: right;\">\n",
       "      <th></th>\n",
       "      <th>30-big-company</th>\n",
       "      <th>bazar-aval</th>\n",
       "      <th>car-industry</th>\n",
       "      <th>fara-boors</th>\n",
       "      <th>ham-vazn-sh</th>\n",
       "      <th>ham-vazn</th>\n",
       "      <th>oil</th>\n",
       "      <th>total-fara-boors</th>\n",
       "      <th>original-stock</th>\n",
       "    </tr>\n",
       "  </thead>\n",
       "  <tbody>\n",
       "    <tr>\n",
       "      <th>0</th>\n",
       "      <td>136636.0</td>\n",
       "      <td>1712220.0</td>\n",
       "      <td>338784.0</td>\n",
       "      <td>25367.2</td>\n",
       "      <td>742576.0</td>\n",
       "      <td>417319.0</td>\n",
       "      <td>10326870.6</td>\n",
       "      <td>25367.2</td>\n",
       "      <td>2195092.3</td>\n",
       "    </tr>\n",
       "    <tr>\n",
       "      <th>1</th>\n",
       "      <td>133500.0</td>\n",
       "      <td>1675500.0</td>\n",
       "      <td>333306.0</td>\n",
       "      <td>25068.2</td>\n",
       "      <td>733780.0</td>\n",
       "      <td>412376.0</td>\n",
       "      <td>10057724.0</td>\n",
       "      <td>25068.2</td>\n",
       "      <td>2160406.5</td>\n",
       "    </tr>\n",
       "    <tr>\n",
       "      <th>2</th>\n",
       "      <td>132211.0</td>\n",
       "      <td>1661410.0</td>\n",
       "      <td>329172.0</td>\n",
       "      <td>24857.2</td>\n",
       "      <td>730215.0</td>\n",
       "      <td>410590.0</td>\n",
       "      <td>10037313.4</td>\n",
       "      <td>24857.2</td>\n",
       "      <td>2148494.0</td>\n",
       "    </tr>\n",
       "    <tr>\n",
       "      <th>3</th>\n",
       "      <td>132041.0</td>\n",
       "      <td>1660480.0</td>\n",
       "      <td>333691.0</td>\n",
       "      <td>24852.0</td>\n",
       "      <td>732031.0</td>\n",
       "      <td>411665.0</td>\n",
       "      <td>10093500.0</td>\n",
       "      <td>24852.0</td>\n",
       "      <td>2150035.3</td>\n",
       "    </tr>\n",
       "    <tr>\n",
       "      <th>4</th>\n",
       "      <td>133131.0</td>\n",
       "      <td>1671980.0</td>\n",
       "      <td>339862.0</td>\n",
       "      <td>24976.4</td>\n",
       "      <td>735945.0</td>\n",
       "      <td>413933.0</td>\n",
       "      <td>10268082.1</td>\n",
       "      <td>24976.4</td>\n",
       "      <td>2163501.0</td>\n",
       "    </tr>\n",
       "    <tr>\n",
       "      <th>...</th>\n",
       "      <td>...</td>\n",
       "      <td>...</td>\n",
       "      <td>...</td>\n",
       "      <td>...</td>\n",
       "      <td>...</td>\n",
       "      <td>...</td>\n",
       "      <td>...</td>\n",
       "      <td>...</td>\n",
       "      <td>...</td>\n",
       "    </tr>\n",
       "    <tr>\n",
       "      <th>2406</th>\n",
       "      <td>3733.7</td>\n",
       "      <td>58534.5</td>\n",
       "      <td>11561.0</td>\n",
       "      <td>781.3</td>\n",
       "      <td>10141.0</td>\n",
       "      <td>10141.0</td>\n",
       "      <td>334467.0</td>\n",
       "      <td>781.3</td>\n",
       "      <td>78741.3</td>\n",
       "    </tr>\n",
       "    <tr>\n",
       "      <th>2407</th>\n",
       "      <td>3729.0</td>\n",
       "      <td>58455.3</td>\n",
       "      <td>11329.4</td>\n",
       "      <td>772.1</td>\n",
       "      <td>10055.5</td>\n",
       "      <td>10055.5</td>\n",
       "      <td>330095.0</td>\n",
       "      <td>772.1</td>\n",
       "      <td>78469.2</td>\n",
       "    </tr>\n",
       "    <tr>\n",
       "      <th>2408</th>\n",
       "      <td>3725.2</td>\n",
       "      <td>58339.8</td>\n",
       "      <td>11132.5</td>\n",
       "      <td>760.4</td>\n",
       "      <td>9984.4</td>\n",
       "      <td>9984.4</td>\n",
       "      <td>326336.0</td>\n",
       "      <td>760.4</td>\n",
       "      <td>78239.7</td>\n",
       "    </tr>\n",
       "    <tr>\n",
       "      <th>2409</th>\n",
       "      <td>3742.0</td>\n",
       "      <td>58490.4</td>\n",
       "      <td>10979.7</td>\n",
       "      <td>763.6</td>\n",
       "      <td>9998.3</td>\n",
       "      <td>9998.3</td>\n",
       "      <td>331090.0</td>\n",
       "      <td>763.6</td>\n",
       "      <td>78619.4</td>\n",
       "    </tr>\n",
       "    <tr>\n",
       "      <th>2410</th>\n",
       "      <td>3756.1</td>\n",
       "      <td>58673.2</td>\n",
       "      <td>11111.5</td>\n",
       "      <td>772.5</td>\n",
       "      <td>10033.6</td>\n",
       "      <td>10033.6</td>\n",
       "      <td>336356.0</td>\n",
       "      <td>772.5</td>\n",
       "      <td>79013.5</td>\n",
       "    </tr>\n",
       "  </tbody>\n",
       "</table>\n",
       "<p>2411 rows × 9 columns</p>\n",
       "</div>"
      ],
      "text/plain": [
       "      30-big-company  bazar-aval  car-industry  fara-boors  ham-vazn-sh  \\\n",
       "0           136636.0   1712220.0      338784.0     25367.2     742576.0   \n",
       "1           133500.0   1675500.0      333306.0     25068.2     733780.0   \n",
       "2           132211.0   1661410.0      329172.0     24857.2     730215.0   \n",
       "3           132041.0   1660480.0      333691.0     24852.0     732031.0   \n",
       "4           133131.0   1671980.0      339862.0     24976.4     735945.0   \n",
       "...              ...         ...           ...         ...          ...   \n",
       "2406          3733.7     58534.5       11561.0       781.3      10141.0   \n",
       "2407          3729.0     58455.3       11329.4       772.1      10055.5   \n",
       "2408          3725.2     58339.8       11132.5       760.4       9984.4   \n",
       "2409          3742.0     58490.4       10979.7       763.6       9998.3   \n",
       "2410          3756.1     58673.2       11111.5       772.5      10033.6   \n",
       "\n",
       "      ham-vazn         oil  total-fara-boors  original-stock  \n",
       "0     417319.0  10326870.6           25367.2       2195092.3  \n",
       "1     412376.0  10057724.0           25068.2       2160406.5  \n",
       "2     410590.0  10037313.4           24857.2       2148494.0  \n",
       "3     411665.0  10093500.0           24852.0       2150035.3  \n",
       "4     413933.0  10268082.1           24976.4       2163501.0  \n",
       "...        ...         ...               ...             ...  \n",
       "2406   10141.0    334467.0             781.3         78741.3  \n",
       "2407   10055.5    330095.0             772.1         78469.2  \n",
       "2408    9984.4    326336.0             760.4         78239.7  \n",
       "2409    9998.3    331090.0             763.6         78619.4  \n",
       "2410   10033.6    336356.0             772.5         79013.5  \n",
       "\n",
       "[2411 rows x 9 columns]"
      ]
     },
     "execution_count": 79,
     "metadata": {},
     "output_type": "execute_result"
    }
   ],
   "source": [
    "new_df = pd.DataFrame()\n",
    "new_df['30-big-company'] = df01.Value.values\n",
    "new_df['bazar-aval'] = df02.Value.values\n",
    "new_df['car-industry'] = df03.Value.values\n",
    "new_df['fara-boors'] = df04.Value.values\n",
    "new_df['ham-vazn-sh'] = df05.Value.values\n",
    "new_df['ham-vazn'] = df06.Value.values\n",
    "new_df['oil'] = df07.Value.values\n",
    "new_df['total-fara-boors'] = df08.Value.values\n",
    "new_df['original-stock'] = original_df.Value.values\n",
    "new_df"
   ]
  },
  {
   "cell_type": "code",
   "execution_count": 80,
   "metadata": {},
   "outputs": [],
   "source": [
    "new_df.index = original_df.dateissue\n",
    "new_df.index = new_df.index.map(lambda x: str(x)[-6:])\n",
    "new_df = new_df[::-1]\n",
    "new_df.head()"
   ]
  }
 ],
 "metadata": {
  "kernelspec": {
   "display_name": "Python 3",
   "language": "python",
   "name": "python3"
  },
  "language_info": {
   "codemirror_mode": {
    "name": "ipython",
    "version": 3
   },
   "file_extension": ".py",
   "mimetype": "text/x-python",
   "name": "python",
   "nbconvert_exporter": "python",
   "pygments_lexer": "ipython3",
   "version": "3.11.3"
  }
 },
 "nbformat": 4,
 "nbformat_minor": 2
}
